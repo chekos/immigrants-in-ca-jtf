{
 "cells": [
  {
   "cell_type": "markdown",
   "metadata": {},
   "source": [
    "# Immigrants in CA - JTF\n",
    "#### A repo containing the code and data to reproduce the numbers in PPIC's Immigrants in CA JTF\n",
    "\n",
    "<details>\n",
    "    <summary><strong>Goal</strong></summary>\n",
    "    \"The goal of this notebook is to ...\"\n",
    "    <ul>\n",
    "        <li> measurable goals for this notebook </li>\n",
    "        <li> Ex 1: Identify <i>variables of interest in dataset <strong>name.dta</strong></i> </li>\n",
    "        <li> Ex 2: Create a <i>working dataset</i> from raw data.</li>\n",
    "    </ul>\n",
    "</details>\n",
    "\n",
    "<details>\n",
    "    <summary><strong>Context</strong></summary>\n",
    "    Context at the moment (i.e. \"We've downloaded raw data from <strong><i>website.com</i></strong> and are now in the process of creating a mastefile.\")\n",
    "    <li> What is the final goal of this project?</li>\n",
    "    <li> What are we trying to recreate? Where are we in the process?</li>\n",
    "    <li> Any links to documentation / figures.</li>\n",
    "</details>"
   ]
  },
  {
   "cell_type": "code",
   "execution_count": 1,
   "metadata": {},
   "outputs": [
    {
     "data": {
      "text/plain": [
       "'08-Jan-20'"
      ]
     },
     "execution_count": 1,
     "metadata": {},
     "output_type": "execute_result"
    }
   ],
   "source": [
    "import pandas as pd\n",
    "import gzip\n",
    "from pathlib import Path\n",
    "from tools import tree\n",
    "from datetime import datetime as dt\n",
    "today = dt.today().strftime(\"%d-%b-%y\")\n",
    "\n",
    "today"
   ]
  },
  {
   "cell_type": "code",
   "execution_count": 2,
   "metadata": {},
   "outputs": [],
   "source": [
    "RAW_DATA = Path(\"../data/raw/\")\n",
    "INTERIM_DATA = Path(\"../data/interim/\")\n",
    "PROCESSED_DATA = Path(\"../data/processed/\")\n",
    "FINAL_DATA = Path(\"../data/final/\")"
   ]
  },
  {
   "cell_type": "code",
   "execution_count": 3,
   "metadata": {},
   "outputs": [
    {
     "name": "stdout",
     "output_type": "stream",
     "text": [
      "+ ..\\data\\raw\n",
      "    + usa_00070.dta.gz\n"
     ]
    }
   ],
   "source": [
    "tree(RAW_DATA)"
   ]
  },
  {
   "cell_type": "code",
   "execution_count": 4,
   "metadata": {},
   "outputs": [],
   "source": [
    "with gzip.open(RAW_DATA / 'usa_00070.dta.gz', 'r') as file:\n",
    "    data = pd.read_stata(file)"
   ]
  },
  {
   "cell_type": "code",
   "execution_count": 5,
   "metadata": {},
   "outputs": [
    {
     "data": {
      "text/html": [
       "<div>\n",
       "<style scoped>\n",
       "    .dataframe tbody tr th:only-of-type {\n",
       "        vertical-align: middle;\n",
       "    }\n",
       "\n",
       "    .dataframe tbody tr th {\n",
       "        vertical-align: top;\n",
       "    }\n",
       "\n",
       "    .dataframe thead th {\n",
       "        text-align: right;\n",
       "    }\n",
       "</style>\n",
       "<table border=\"1\" class=\"dataframe\">\n",
       "  <thead>\n",
       "    <tr style=\"text-align: right;\">\n",
       "      <th></th>\n",
       "      <th>year</th>\n",
       "      <th>sample</th>\n",
       "      <th>serial</th>\n",
       "      <th>cbserial</th>\n",
       "      <th>hhwt</th>\n",
       "      <th>cluster</th>\n",
       "      <th>statefip</th>\n",
       "      <th>strata</th>\n",
       "      <th>gq</th>\n",
       "      <th>pernum</th>\n",
       "      <th>perwt</th>\n",
       "      <th>age</th>\n",
       "      <th>bpl</th>\n",
       "      <th>bpld</th>\n",
       "      <th>citizen</th>\n",
       "      <th>yrsusa2</th>\n",
       "      <th>migplac1</th>\n",
       "    </tr>\n",
       "  </thead>\n",
       "  <tbody>\n",
       "    <tr>\n",
       "      <td>0</td>\n",
       "      <td>2006</td>\n",
       "      <td>2006 acs</td>\n",
       "      <td>65923</td>\n",
       "      <td>2.0</td>\n",
       "      <td>65</td>\n",
       "      <td>2.006001e+12</td>\n",
       "      <td>california</td>\n",
       "      <td>541606</td>\n",
       "      <td>households under 1970 definition</td>\n",
       "      <td>1</td>\n",
       "      <td>65</td>\n",
       "      <td>37</td>\n",
       "      <td>california</td>\n",
       "      <td>california</td>\n",
       "      <td>n/a</td>\n",
       "      <td>n/a</td>\n",
       "      <td>n/a</td>\n",
       "    </tr>\n",
       "    <tr>\n",
       "      <td>1</td>\n",
       "      <td>2006</td>\n",
       "      <td>2006 acs</td>\n",
       "      <td>65923</td>\n",
       "      <td>2.0</td>\n",
       "      <td>65</td>\n",
       "      <td>2.006001e+12</td>\n",
       "      <td>california</td>\n",
       "      <td>541606</td>\n",
       "      <td>households under 1970 definition</td>\n",
       "      <td>2</td>\n",
       "      <td>72</td>\n",
       "      <td>9</td>\n",
       "      <td>california</td>\n",
       "      <td>california</td>\n",
       "      <td>n/a</td>\n",
       "      <td>n/a</td>\n",
       "      <td>n/a</td>\n",
       "    </tr>\n",
       "    <tr>\n",
       "      <td>2</td>\n",
       "      <td>2006</td>\n",
       "      <td>2006 acs</td>\n",
       "      <td>65923</td>\n",
       "      <td>2.0</td>\n",
       "      <td>65</td>\n",
       "      <td>2.006001e+12</td>\n",
       "      <td>california</td>\n",
       "      <td>541606</td>\n",
       "      <td>households under 1970 definition</td>\n",
       "      <td>3</td>\n",
       "      <td>71</td>\n",
       "      <td>6</td>\n",
       "      <td>california</td>\n",
       "      <td>california</td>\n",
       "      <td>n/a</td>\n",
       "      <td>n/a</td>\n",
       "      <td>n/a</td>\n",
       "    </tr>\n",
       "    <tr>\n",
       "      <td>3</td>\n",
       "      <td>2006</td>\n",
       "      <td>2006 acs</td>\n",
       "      <td>65923</td>\n",
       "      <td>2.0</td>\n",
       "      <td>65</td>\n",
       "      <td>2.006001e+12</td>\n",
       "      <td>california</td>\n",
       "      <td>541606</td>\n",
       "      <td>households under 1970 definition</td>\n",
       "      <td>4</td>\n",
       "      <td>67</td>\n",
       "      <td>36</td>\n",
       "      <td>california</td>\n",
       "      <td>california</td>\n",
       "      <td>n/a</td>\n",
       "      <td>n/a</td>\n",
       "      <td>n/a</td>\n",
       "    </tr>\n",
       "    <tr>\n",
       "      <td>4</td>\n",
       "      <td>2006</td>\n",
       "      <td>2006 acs</td>\n",
       "      <td>65924</td>\n",
       "      <td>16.0</td>\n",
       "      <td>59</td>\n",
       "      <td>2.006001e+12</td>\n",
       "      <td>california</td>\n",
       "      <td>811506</td>\n",
       "      <td>households under 1970 definition</td>\n",
       "      <td>1</td>\n",
       "      <td>60</td>\n",
       "      <td>49</td>\n",
       "      <td>minnesota</td>\n",
       "      <td>minnesota</td>\n",
       "      <td>n/a</td>\n",
       "      <td>n/a</td>\n",
       "      <td>n/a</td>\n",
       "    </tr>\n",
       "  </tbody>\n",
       "</table>\n",
       "</div>"
      ],
      "text/plain": [
       "   year    sample  serial  cbserial  hhwt       cluster    statefip  strata  \\\n",
       "0  2006  2006 acs   65923       2.0    65  2.006001e+12  california  541606   \n",
       "1  2006  2006 acs   65923       2.0    65  2.006001e+12  california  541606   \n",
       "2  2006  2006 acs   65923       2.0    65  2.006001e+12  california  541606   \n",
       "3  2006  2006 acs   65923       2.0    65  2.006001e+12  california  541606   \n",
       "4  2006  2006 acs   65924      16.0    59  2.006001e+12  california  811506   \n",
       "\n",
       "                                 gq  pernum  perwt age         bpl  \\\n",
       "0  households under 1970 definition       1     65  37  california   \n",
       "1  households under 1970 definition       2     72   9  california   \n",
       "2  households under 1970 definition       3     71   6  california   \n",
       "3  households under 1970 definition       4     67  36  california   \n",
       "4  households under 1970 definition       1     60  49   minnesota   \n",
       "\n",
       "         bpld citizen yrsusa2 migplac1  \n",
       "0  california     n/a     n/a      n/a  \n",
       "1  california     n/a     n/a      n/a  \n",
       "2  california     n/a     n/a      n/a  \n",
       "3  california     n/a     n/a      n/a  \n",
       "4   minnesota     n/a     n/a      n/a  "
      ]
     },
     "execution_count": 5,
     "metadata": {},
     "output_type": "execute_result"
    }
   ],
   "source": [
    "data.head()"
   ]
  },
  {
   "cell_type": "code",
   "execution_count": 6,
   "metadata": {},
   "outputs": [],
   "source": [
    "columns_of_interest = ['year', 'perwt', 'statefip', 'migplac1', 'citizen', 'bpld']"
   ]
  },
  {
   "cell_type": "code",
   "execution_count": 7,
   "metadata": {},
   "outputs": [],
   "source": [
    "working_data = data[columns_of_interest].copy()"
   ]
  },
  {
   "cell_type": "code",
   "execution_count": 8,
   "metadata": {},
   "outputs": [
    {
     "name": "stdout",
     "output_type": "stream",
     "text": [
      "0.\tn/a\n",
      "1.\talabama\n",
      "2.\talaska\n",
      "3.\tarizona\n",
      "4.\tarkansas\n",
      "5.\tcalifornia\n",
      "6.\tcolorado\n",
      "7.\tconnecticut\n",
      "8.\tdelaware\n",
      "9.\tdistrict of columbia\n",
      "10.\tflorida\n",
      "11.\tgeorgia\n",
      "12.\thawaii\n",
      "13.\tidaho\n",
      "14.\tillinois\n",
      "15.\tindiana\n",
      "16.\tiowa\n",
      "17.\tkansas\n",
      "18.\tkentucky\n",
      "19.\tlouisiana\n",
      "20.\tmaine\n",
      "21.\tmaryland\n",
      "22.\tmassachusetts\n",
      "23.\tmichigan\n",
      "24.\tminnesota\n",
      "25.\tmississippi\n",
      "26.\tmissouri\n",
      "27.\tmontana\n",
      "28.\tnebraska\n",
      "29.\tnevada\n",
      "30.\tnew hampshire\n",
      "31.\tnew jersey\n",
      "32.\tnew mexico\n",
      "33.\tnew york\n",
      "34.\tnorth carolina\n",
      "35.\tnorth dakota\n",
      "36.\tohio\n",
      "37.\toklahoma\n",
      "38.\toregon\n",
      "39.\tpennsylvania\n",
      "40.\trhode island\n",
      "41.\tsouth carolina\n",
      "42.\tsouth dakota\n",
      "43.\ttennessee\n",
      "44.\ttexas\n",
      "45.\tutah\n",
      "46.\tvermont\n",
      "47.\tvirginia\n",
      "48.\twashington\n",
      "49.\twest virginia\n",
      "50.\twisconsin\n",
      "51.\twyoming\n",
      "52.\tpuerto rico\n",
      "53.\tother us possessions\n",
      "54.\tcanada\n",
      "55.\tmexico\n",
      "56.\tel salvador\n",
      "57.\tguatemala\n",
      "58.\thonduras\n",
      "59.\tcentral america, nec\n",
      "60.\tcuba\n",
      "61.\tdominican republic\n",
      "62.\thaiti\n",
      "63.\tjamaica\n",
      "64.\tother caribbean and north america\n",
      "65.\tbrazil\n",
      "66.\tcolombia\n",
      "67.\tecuador\n",
      "68.\tperu\n",
      "69.\tvenezuela\n",
      "70.\tsouth america, nec\n",
      "71.\tengland\n",
      "72.\tunited kingdom (excluding england: 2005acs)\n",
      "73.\tother northern europe\n",
      "74.\tfrance\n",
      "75.\tother western europe\n",
      "76.\titaly\n",
      "77.\tspain\n",
      "78.\tgermany\n",
      "79.\tpoland\n",
      "80.\tother eastern europe\n",
      "81.\tussr\n",
      "82.\tukraine\n",
      "83.\teurope, ns\n",
      "84.\tchina\n",
      "85.\tjapan\n",
      "86.\tkorea\n",
      "87.\ttaiwan\n",
      "88.\tphilippines\n",
      "89.\tthailand\n",
      "90.\tvietnam\n",
      "91.\tother south east asia\n",
      "92.\tnepal\n",
      "93.\tindia\n",
      "94.\tiraq\n",
      "95.\tpakistan\n",
      "96.\tisrael/palestine\n",
      "97.\tunited arab emirates\n",
      "98.\tsaudi arabia\n",
      "99.\tturkey\n",
      "100.\tafghanistan\n",
      "101.\tother western asia\n",
      "102.\tasia, nec\n",
      "103.\tnorthern africa\n",
      "104.\tegypt\n",
      "105.\tnigeria\n",
      "106.\twestern africa\n",
      "107.\teastern africa\n",
      "108.\tethiopia\n",
      "109.\tkenya\n",
      "110.\tafrica, nec\n",
      "111.\taustralia\n",
      "112.\tpacific islands (australia and new zealand subregions, not specified, oceania and at sea: acs)\n",
      "113.\tabroad (unknown) or at sea\n"
     ]
    }
   ],
   "source": [
    "for index,category in enumerate(working_data['migplac1'].cat.categories):\n",
    "    print(f\"{index}.\\t{category}\")"
   ]
  },
  {
   "cell_type": "code",
   "execution_count": 9,
   "metadata": {},
   "outputs": [],
   "source": [
    "mask_state = working_data['statefip'] == 'california'\n",
    "mask_latam = (working_data['migplac1'] >= 'mexico') & (working_data['migplac1'] <= 'south america, nec')\n",
    "mask_asia = (working_data['migplac1'] >= 'china') & (working_data['migplac1'] <= 'asia, nec')\n",
    "mask_newlyarrivals = working_data['migplac1'] >= 'canada'"
   ]
  },
  {
   "cell_type": "code",
   "execution_count": 10,
   "metadata": {},
   "outputs": [],
   "source": [
    "california = working_data[mask_state & mask_newlyarrivals].copy()"
   ]
  },
  {
   "cell_type": "code",
   "execution_count": 11,
   "metadata": {},
   "outputs": [],
   "source": [
    "california.loc[mask_latam, 'place of origin'] = 'Latin America'\n",
    "california.loc[mask_asia, 'place of origin'] = 'Asia'\n",
    "california['place of origin'].fillna('Other', inplace = True)"
   ]
  },
  {
   "cell_type": "code",
   "execution_count": 12,
   "metadata": {},
   "outputs": [
    {
     "data": {
      "text/html": [
       "<div>\n",
       "<style scoped>\n",
       "    .dataframe tbody tr th:only-of-type {\n",
       "        vertical-align: middle;\n",
       "    }\n",
       "\n",
       "    .dataframe tbody tr th {\n",
       "        vertical-align: top;\n",
       "    }\n",
       "\n",
       "    .dataframe thead th {\n",
       "        text-align: right;\n",
       "    }\n",
       "</style>\n",
       "<table border=\"1\" class=\"dataframe\">\n",
       "  <thead>\n",
       "    <tr style=\"text-align: right;\">\n",
       "      <th></th>\n",
       "      <th>year</th>\n",
       "      <th>perwt</th>\n",
       "      <th>statefip</th>\n",
       "      <th>migplac1</th>\n",
       "      <th>citizen</th>\n",
       "      <th>bpld</th>\n",
       "      <th>place of origin</th>\n",
       "    </tr>\n",
       "  </thead>\n",
       "  <tbody>\n",
       "    <tr>\n",
       "      <td>145</td>\n",
       "      <td>2006</td>\n",
       "      <td>74</td>\n",
       "      <td>california</td>\n",
       "      <td>other western asia</td>\n",
       "      <td>n/a</td>\n",
       "      <td>california</td>\n",
       "      <td>Asia</td>\n",
       "    </tr>\n",
       "    <tr>\n",
       "      <td>146</td>\n",
       "      <td>2006</td>\n",
       "      <td>68</td>\n",
       "      <td>california</td>\n",
       "      <td>other western asia</td>\n",
       "      <td>n/a</td>\n",
       "      <td>california</td>\n",
       "      <td>Asia</td>\n",
       "    </tr>\n",
       "    <tr>\n",
       "      <td>487</td>\n",
       "      <td>2006</td>\n",
       "      <td>75</td>\n",
       "      <td>california</td>\n",
       "      <td>china</td>\n",
       "      <td>not a citizen</td>\n",
       "      <td>china</td>\n",
       "      <td>Asia</td>\n",
       "    </tr>\n",
       "    <tr>\n",
       "      <td>1020</td>\n",
       "      <td>2006</td>\n",
       "      <td>95</td>\n",
       "      <td>california</td>\n",
       "      <td>india</td>\n",
       "      <td>not a citizen</td>\n",
       "      <td>india</td>\n",
       "      <td>Asia</td>\n",
       "    </tr>\n",
       "    <tr>\n",
       "      <td>1021</td>\n",
       "      <td>2006</td>\n",
       "      <td>76</td>\n",
       "      <td>california</td>\n",
       "      <td>india</td>\n",
       "      <td>not a citizen</td>\n",
       "      <td>india</td>\n",
       "      <td>Asia</td>\n",
       "    </tr>\n",
       "  </tbody>\n",
       "</table>\n",
       "</div>"
      ],
      "text/plain": [
       "      year  perwt    statefip            migplac1        citizen        bpld  \\\n",
       "145   2006     74  california  other western asia            n/a  california   \n",
       "146   2006     68  california  other western asia            n/a  california   \n",
       "487   2006     75  california               china  not a citizen       china   \n",
       "1020  2006     95  california               india  not a citizen       india   \n",
       "1021  2006     76  california               india  not a citizen       india   \n",
       "\n",
       "     place of origin  \n",
       "145             Asia  \n",
       "146             Asia  \n",
       "487             Asia  \n",
       "1020            Asia  \n",
       "1021            Asia  "
      ]
     },
     "execution_count": 12,
     "metadata": {},
     "output_type": "execute_result"
    }
   ],
   "source": [
    "california.head()"
   ]
  },
  {
   "cell_type": "code",
   "execution_count": 13,
   "metadata": {},
   "outputs": [],
   "source": [
    "time_series = california.groupby(['year', 'place of origin']).agg({'perwt': 'sum'})\n",
    "time_series.reset_index(inplace = True)"
   ]
  },
  {
   "cell_type": "code",
   "execution_count": 14,
   "metadata": {},
   "outputs": [
    {
     "data": {
      "text/html": [
       "<div>\n",
       "<style scoped>\n",
       "    .dataframe tbody tr th:only-of-type {\n",
       "        vertical-align: middle;\n",
       "    }\n",
       "\n",
       "    .dataframe tbody tr th {\n",
       "        vertical-align: top;\n",
       "    }\n",
       "\n",
       "    .dataframe thead th {\n",
       "        text-align: right;\n",
       "    }\n",
       "</style>\n",
       "<table border=\"1\" class=\"dataframe\">\n",
       "  <thead>\n",
       "    <tr style=\"text-align: right;\">\n",
       "      <th></th>\n",
       "      <th>year</th>\n",
       "      <th>place of origin</th>\n",
       "      <th>perwt</th>\n",
       "    </tr>\n",
       "  </thead>\n",
       "  <tbody>\n",
       "    <tr>\n",
       "      <td>0</td>\n",
       "      <td>2006</td>\n",
       "      <td>Asia</td>\n",
       "      <td>118730.0</td>\n",
       "    </tr>\n",
       "    <tr>\n",
       "      <td>1</td>\n",
       "      <td>2006</td>\n",
       "      <td>Latin America</td>\n",
       "      <td>111909.0</td>\n",
       "    </tr>\n",
       "    <tr>\n",
       "      <td>2</td>\n",
       "      <td>2006</td>\n",
       "      <td>Other</td>\n",
       "      <td>54210.0</td>\n",
       "    </tr>\n",
       "    <tr>\n",
       "      <td>3</td>\n",
       "      <td>2007</td>\n",
       "      <td>Asia</td>\n",
       "      <td>111923.0</td>\n",
       "    </tr>\n",
       "    <tr>\n",
       "      <td>4</td>\n",
       "      <td>2007</td>\n",
       "      <td>Latin America</td>\n",
       "      <td>82811.0</td>\n",
       "    </tr>\n",
       "  </tbody>\n",
       "</table>\n",
       "</div>"
      ],
      "text/plain": [
       "   year place of origin     perwt\n",
       "0  2006            Asia  118730.0\n",
       "1  2006   Latin America  111909.0\n",
       "2  2006           Other   54210.0\n",
       "3  2007            Asia  111923.0\n",
       "4  2007   Latin America   82811.0"
      ]
     },
     "execution_count": 14,
     "metadata": {},
     "output_type": "execute_result"
    }
   ],
   "source": [
    "time_series.head()"
   ]
  },
  {
   "cell_type": "markdown",
   "metadata": {},
   "source": [
    "# Chart"
   ]
  },
  {
   "cell_type": "code",
   "execution_count": 15,
   "metadata": {},
   "outputs": [],
   "source": [
    "import altair as alt"
   ]
  },
  {
   "cell_type": "code",
   "execution_count": 17,
   "metadata": {},
   "outputs": [
    {
     "data": {
      "application/vnd.vegalite.v3+json": {
       "$schema": "https://vega.github.io/schema/vega-lite/v3.3.0.json",
       "config": {
        "mark": {
         "tooltip": null
        },
        "view": {
         "height": 300,
         "width": 400
        }
       },
       "data": {
        "name": "data-9aea95ca6a6a4af1524cbc0b3c1ad3cd"
       },
       "datasets": {
        "data-9aea95ca6a6a4af1524cbc0b3c1ad3cd": [
         {
          "perwt": 118730,
          "place of origin": "Asia",
          "year": "2006"
         },
         {
          "perwt": 111909,
          "place of origin": "Latin America",
          "year": "2006"
         },
         {
          "perwt": 54210,
          "place of origin": "Other",
          "year": "2006"
         },
         {
          "perwt": 111923,
          "place of origin": "Asia",
          "year": "2007"
         },
         {
          "perwt": 82811,
          "place of origin": "Latin America",
          "year": "2007"
         },
         {
          "perwt": 49274,
          "place of origin": "Other",
          "year": "2007"
         },
         {
          "perwt": 123401,
          "place of origin": "Asia",
          "year": "2008"
         },
         {
          "perwt": 80937,
          "place of origin": "Latin America",
          "year": "2008"
         },
         {
          "perwt": 59486,
          "place of origin": "Other",
          "year": "2008"
         },
         {
          "perwt": 113036,
          "place of origin": "Asia",
          "year": "2009"
         },
         {
          "perwt": 54701,
          "place of origin": "Latin America",
          "year": "2009"
         },
         {
          "perwt": 51788,
          "place of origin": "Other",
          "year": "2009"
         },
         {
          "perwt": 124865,
          "place of origin": "Asia",
          "year": "2010"
         },
         {
          "perwt": 52716,
          "place of origin": "Latin America",
          "year": "2010"
         },
         {
          "perwt": 49455,
          "place of origin": "Other",
          "year": "2010"
         },
         {
          "perwt": 145587,
          "place of origin": "Asia",
          "year": "2011"
         },
         {
          "perwt": 49789,
          "place of origin": "Latin America",
          "year": "2011"
         },
         {
          "perwt": 53204,
          "place of origin": "Other",
          "year": "2011"
         },
         {
          "perwt": 121998,
          "place of origin": "Asia",
          "year": "2012"
         },
         {
          "perwt": 41997,
          "place of origin": "Latin America",
          "year": "2012"
         },
         {
          "perwt": 65242,
          "place of origin": "Other",
          "year": "2012"
         },
         {
          "perwt": 134040,
          "place of origin": "Asia",
          "year": "2013"
         },
         {
          "perwt": 52288,
          "place of origin": "Latin America",
          "year": "2013"
         },
         {
          "perwt": 64226,
          "place of origin": "Other",
          "year": "2013"
         },
         {
          "perwt": 131722,
          "place of origin": "Asia",
          "year": "2014"
         },
         {
          "perwt": 53105,
          "place of origin": "Latin America",
          "year": "2014"
         },
         {
          "perwt": 75341,
          "place of origin": "Other",
          "year": "2014"
         },
         {
          "perwt": 156708,
          "place of origin": "Asia",
          "year": "2015"
         },
         {
          "perwt": 62121,
          "place of origin": "Latin America",
          "year": "2015"
         },
         {
          "perwt": 77228,
          "place of origin": "Other",
          "year": "2015"
         },
         {
          "perwt": 153639,
          "place of origin": "Asia",
          "year": "2016"
         },
         {
          "perwt": 67419,
          "place of origin": "Latin America",
          "year": "2016"
         },
         {
          "perwt": 71307,
          "place of origin": "Other",
          "year": "2016"
         },
         {
          "perwt": 152113,
          "place of origin": "Asia",
          "year": "2017"
         },
         {
          "perwt": 59479,
          "place of origin": "Latin America",
          "year": "2017"
         },
         {
          "perwt": 70628,
          "place of origin": "Other",
          "year": "2017"
         },
         {
          "perwt": 129484,
          "place of origin": "Asia",
          "year": "2018"
         },
         {
          "perwt": 53291,
          "place of origin": "Latin America",
          "year": "2018"
         },
         {
          "perwt": 69574,
          "place of origin": "Other",
          "year": "2018"
         }
        ]
       },
       "encoding": {
        "color": {
         "field": "place of origin",
         "type": "nominal"
        },
        "x": {
         "axis": {
          "title": ""
         },
         "field": "year",
         "type": "temporal"
        },
        "y": {
         "axis": {
          "title": "Newly Arrivals"
         },
         "field": "perwt",
         "type": "quantitative"
        }
       },
       "mark": "line",
       "title": "Asia has surpassed Latin America as the leading source of recent immigrants to California",
       "width": 600
      },
      "image/png": "[encoded data removed]",
      "text/plain": [
       "<VegaLite 3 object>\n",
       "\n",
       "If you see this message, it means the renderer has not been properly enabled\n",
       "for the frontend that you are using. For more information, see\n",
       "https://altair-viz.github.io/user_guide/troubleshooting.html\n"
      ]
     },
     "execution_count": 17,
     "metadata": {},
     "output_type": "execute_result"
    }
   ],
   "source": [
    "alt.Chart(time_series).mark_line().encode(\n",
    "    x = alt.X('year:T', axis = alt.Axis(title = \"\")),\n",
    "    y = alt.Y('perwt:Q', axis = alt.Axis(title = \"Newly Arrivals\")),\n",
    "    color = alt.Color(\"place of origin:N\",)\n",
    ").properties(\n",
    "    title = \"Asia has surpassed Latin America as the leading source of recent immigrants to California\",\n",
    "    width = 600\n",
    ")"
   ]
  },
  {
   "cell_type": "markdown",
   "metadata": {},
   "source": [
    "[**Other notebook**](00_bullet_4_text.ipynb)"
   ]
  }
 ],
 "metadata": {
  "kernelspec": {
   "display_name": "Python 3",
   "language": "python",
   "name": "python3"
  },
  "language_info": {
   "codemirror_mode": {
    "name": "ipython",
    "version": 3
   },
   "file_extension": ".py",
   "mimetype": "text/x-python",
   "name": "python",
   "nbconvert_exporter": "python",
   "pygments_lexer": "ipython3",
   "version": "3.7.3"
  }
 },
 "nbformat": 4,
 "nbformat_minor": 4
}
