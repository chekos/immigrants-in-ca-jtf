{
 "cells": [
  {
   "cell_type": "markdown",
   "metadata": {},
   "source": [
    "# Immigrants in CA - JTF\n",
    "#### A repo containing the code and data to reproduce the numbers in PPIC's Immigrants in CA JTF\n",
    "\n",
    "<details>\n",
    "    <summary><strong>Goal</strong></summary>\n",
    "    The goal of this notebook is to reproduce the 2nd chart in our Immigrants in CA JTF\n",
    "</details>\n",
    "\n",
    "<details>\n",
    "    <summary><strong>Context</strong></summary>\n",
    "    We've downloaded raw data from <strong><i>ipums.org</i></strong>.\n",
    "    It includes ACS 2004-2018 and the variables:\n",
    "    <ul>\n",
    "        <li>statefip</li>\n",
    "        <li>bpld</li>\n",
    "        <li>citizen</li>\n",
    "        <li>yrsusa2</li>\n",
    "        <li>migplac1</li>\n",
    "    </ul>\n",
    "    plus the typical variables included by IPUMS (perwt, hhwt, gq, etc).\n",
    "</details>"
   ]
  },
  {
   "cell_type": "code",
   "execution_count": 1,
   "metadata": {},
   "outputs": [
    {
     "data": {
      "text/plain": [
       "'09-Jan-20'"
      ]
     },
     "execution_count": 1,
     "metadata": {},
     "output_type": "execute_result"
    }
   ],
   "source": [
    "import pandas as pd\n",
    "import gzip\n",
    "from pathlib import Path\n",
    "from tools import tree\n",
    "from datetime import datetime as dt\n",
    "today = dt.today().strftime(\"%d-%b-%y\")\n",
    "\n",
    "today"
   ]
  },
  {
   "cell_type": "code",
   "execution_count": 2,
   "metadata": {},
   "outputs": [],
   "source": [
    "RAW_DATA = Path(\"../data/raw/\")\n",
    "INTERIM_DATA = Path(\"../data/interim/\")\n",
    "PROCESSED_DATA = Path(\"../data/processed/\")\n",
    "FINAL_DATA = Path(\"../data/final/\")"
   ]
  },
  {
   "cell_type": "code",
   "execution_count": 3,
   "metadata": {},
   "outputs": [
    {
     "name": "stdout",
     "output_type": "stream",
     "text": [
      "+ ..\\data\\raw\n",
      "    + usa_00072.dta.gz\n"
     ]
    }
   ],
   "source": [
    "tree(RAW_DATA)"
   ]
  },
  {
   "cell_type": "code",
   "execution_count": 4,
   "metadata": {},
   "outputs": [],
   "source": [
    "with gzip.open(RAW_DATA / 'usa_00072.dta.gz', 'r') as file:\n",
    "    data = pd.read_stata(file)"
   ]
  },
  {
   "cell_type": "code",
   "execution_count": 5,
   "metadata": {},
   "outputs": [
    {
     "data": {
      "text/html": [
       "<div>\n",
       "<style scoped>\n",
       "    .dataframe tbody tr th:only-of-type {\n",
       "        vertical-align: middle;\n",
       "    }\n",
       "\n",
       "    .dataframe tbody tr th {\n",
       "        vertical-align: top;\n",
       "    }\n",
       "\n",
       "    .dataframe thead th {\n",
       "        text-align: right;\n",
       "    }\n",
       "</style>\n",
       "<table border=\"1\" class=\"dataframe\">\n",
       "  <thead>\n",
       "    <tr style=\"text-align: right;\">\n",
       "      <th></th>\n",
       "      <th>year</th>\n",
       "      <th>sample</th>\n",
       "      <th>serial</th>\n",
       "      <th>cbserial</th>\n",
       "      <th>hhwt</th>\n",
       "      <th>cluster</th>\n",
       "      <th>statefip</th>\n",
       "      <th>strata</th>\n",
       "      <th>gq</th>\n",
       "      <th>pernum</th>\n",
       "      <th>perwt</th>\n",
       "      <th>age</th>\n",
       "      <th>bpl</th>\n",
       "      <th>bpld</th>\n",
       "      <th>citizen</th>\n",
       "      <th>yrsusa2</th>\n",
       "      <th>migplac1</th>\n",
       "    </tr>\n",
       "  </thead>\n",
       "  <tbody>\n",
       "    <tr>\n",
       "      <td>0</td>\n",
       "      <td>2004</td>\n",
       "      <td>2004 acs</td>\n",
       "      <td>23712</td>\n",
       "      <td>NaN</td>\n",
       "      <td>208</td>\n",
       "      <td>2.004000e+12</td>\n",
       "      <td>california</td>\n",
       "      <td>6</td>\n",
       "      <td>households under 1970 definition</td>\n",
       "      <td>1</td>\n",
       "      <td>220</td>\n",
       "      <td>37</td>\n",
       "      <td>nebraska</td>\n",
       "      <td>nebraska</td>\n",
       "      <td>n/a</td>\n",
       "      <td>n/a</td>\n",
       "      <td>n/a</td>\n",
       "    </tr>\n",
       "    <tr>\n",
       "      <td>1</td>\n",
       "      <td>2004</td>\n",
       "      <td>2004 acs</td>\n",
       "      <td>23712</td>\n",
       "      <td>NaN</td>\n",
       "      <td>208</td>\n",
       "      <td>2.004000e+12</td>\n",
       "      <td>california</td>\n",
       "      <td>6</td>\n",
       "      <td>households under 1970 definition</td>\n",
       "      <td>2</td>\n",
       "      <td>222</td>\n",
       "      <td>14</td>\n",
       "      <td>california</td>\n",
       "      <td>california</td>\n",
       "      <td>n/a</td>\n",
       "      <td>n/a</td>\n",
       "      <td>n/a</td>\n",
       "    </tr>\n",
       "    <tr>\n",
       "      <td>2</td>\n",
       "      <td>2004</td>\n",
       "      <td>2004 acs</td>\n",
       "      <td>23712</td>\n",
       "      <td>NaN</td>\n",
       "      <td>208</td>\n",
       "      <td>2.004000e+12</td>\n",
       "      <td>california</td>\n",
       "      <td>6</td>\n",
       "      <td>households under 1970 definition</td>\n",
       "      <td>3</td>\n",
       "      <td>221</td>\n",
       "      <td>12</td>\n",
       "      <td>california</td>\n",
       "      <td>california</td>\n",
       "      <td>n/a</td>\n",
       "      <td>n/a</td>\n",
       "      <td>n/a</td>\n",
       "    </tr>\n",
       "    <tr>\n",
       "      <td>3</td>\n",
       "      <td>2004</td>\n",
       "      <td>2004 acs</td>\n",
       "      <td>23712</td>\n",
       "      <td>NaN</td>\n",
       "      <td>208</td>\n",
       "      <td>2.004000e+12</td>\n",
       "      <td>california</td>\n",
       "      <td>6</td>\n",
       "      <td>households under 1970 definition</td>\n",
       "      <td>4</td>\n",
       "      <td>220</td>\n",
       "      <td>47</td>\n",
       "      <td>indiana</td>\n",
       "      <td>indiana</td>\n",
       "      <td>n/a</td>\n",
       "      <td>n/a</td>\n",
       "      <td>n/a</td>\n",
       "    </tr>\n",
       "    <tr>\n",
       "      <td>4</td>\n",
       "      <td>2004</td>\n",
       "      <td>2004 acs</td>\n",
       "      <td>23713</td>\n",
       "      <td>NaN</td>\n",
       "      <td>244</td>\n",
       "      <td>2.004000e+12</td>\n",
       "      <td>california</td>\n",
       "      <td>6</td>\n",
       "      <td>households under 1970 definition</td>\n",
       "      <td>1</td>\n",
       "      <td>258</td>\n",
       "      <td>29</td>\n",
       "      <td>florida</td>\n",
       "      <td>florida</td>\n",
       "      <td>n/a</td>\n",
       "      <td>n/a</td>\n",
       "      <td>n/a</td>\n",
       "    </tr>\n",
       "  </tbody>\n",
       "</table>\n",
       "</div>"
      ],
      "text/plain": [
       "   year    sample  serial  cbserial  hhwt       cluster    statefip  strata  \\\n",
       "0  2004  2004 acs   23712       NaN   208  2.004000e+12  california       6   \n",
       "1  2004  2004 acs   23712       NaN   208  2.004000e+12  california       6   \n",
       "2  2004  2004 acs   23712       NaN   208  2.004000e+12  california       6   \n",
       "3  2004  2004 acs   23712       NaN   208  2.004000e+12  california       6   \n",
       "4  2004  2004 acs   23713       NaN   244  2.004000e+12  california       6   \n",
       "\n",
       "                                 gq  pernum  perwt age         bpl  \\\n",
       "0  households under 1970 definition       1    220  37    nebraska   \n",
       "1  households under 1970 definition       2    222  14  california   \n",
       "2  households under 1970 definition       3    221  12  california   \n",
       "3  households under 1970 definition       4    220  47     indiana   \n",
       "4  households under 1970 definition       1    258  29     florida   \n",
       "\n",
       "         bpld citizen yrsusa2 migplac1  \n",
       "0    nebraska     n/a     n/a      n/a  \n",
       "1  california     n/a     n/a      n/a  \n",
       "2  california     n/a     n/a      n/a  \n",
       "3     indiana     n/a     n/a      n/a  \n",
       "4     florida     n/a     n/a      n/a  "
      ]
     },
     "execution_count": 5,
     "metadata": {},
     "output_type": "execute_result"
    }
   ],
   "source": [
    "data.head()"
   ]
  },
  {
   "cell_type": "code",
   "execution_count": 6,
   "metadata": {},
   "outputs": [],
   "source": [
    "columns_of_interest = ['year', 'perwt', 'statefip', 'migplac1', 'citizen', 'bpld']"
   ]
  },
  {
   "cell_type": "code",
   "execution_count": 7,
   "metadata": {},
   "outputs": [],
   "source": [
    "working_data = data[columns_of_interest].copy()"
   ]
  },
  {
   "cell_type": "code",
   "execution_count": 8,
   "metadata": {},
   "outputs": [
    {
     "name": "stdout",
     "output_type": "stream",
     "text": [
      "0.\tn/a\n",
      "1.\talabama\n",
      "2.\talaska\n",
      "3.\tarizona\n",
      "4.\tarkansas\n",
      "5.\tcalifornia\n",
      "6.\tcolorado\n",
      "7.\tconnecticut\n",
      "8.\tdelaware\n",
      "9.\tdistrict of columbia\n",
      "10.\tflorida\n",
      "11.\tgeorgia\n",
      "12.\thawaii\n",
      "13.\tidaho\n",
      "14.\tillinois\n",
      "15.\tindiana\n",
      "16.\tiowa\n",
      "17.\tkansas\n",
      "18.\tkentucky\n",
      "19.\tlouisiana\n",
      "20.\tmaine\n",
      "21.\tmaryland\n",
      "22.\tmassachusetts\n",
      "23.\tmichigan\n",
      "24.\tminnesota\n",
      "25.\tmississippi\n",
      "26.\tmissouri\n",
      "27.\tmontana\n",
      "28.\tnebraska\n",
      "29.\tnevada\n",
      "30.\tnew hampshire\n",
      "31.\tnew jersey\n",
      "32.\tnew mexico\n",
      "33.\tnew york\n",
      "34.\tnorth carolina\n",
      "35.\tnorth dakota\n",
      "36.\tohio\n",
      "37.\toklahoma\n",
      "38.\toregon\n",
      "39.\tpennsylvania\n",
      "40.\trhode island\n",
      "41.\tsouth carolina\n",
      "42.\tsouth dakota\n",
      "43.\ttennessee\n",
      "44.\ttexas\n",
      "45.\tutah\n",
      "46.\tvermont\n",
      "47.\tvirginia\n",
      "48.\twashington\n",
      "49.\twest virginia\n",
      "50.\twisconsin\n",
      "51.\twyoming\n",
      "52.\tguam\n",
      "53.\tpuerto rico\n",
      "54.\tother us possessions\n",
      "55.\tcanada\n",
      "56.\tmexico\n",
      "57.\tel salvador\n",
      "58.\tguatemala\n",
      "59.\thonduras\n",
      "60.\tcentral america, nec\n",
      "61.\tcuba\n",
      "62.\tdominican republic\n",
      "63.\thaiti\n",
      "64.\tjamaica\n",
      "65.\tother caribbean and north america\n",
      "66.\tbrazil\n",
      "67.\tchile\n",
      "68.\tcolombia\n",
      "69.\tecuador\n",
      "70.\tperu\n",
      "71.\tvenezuela\n",
      "72.\tsouth america, nec\n",
      "73.\tsweden\n",
      "74.\tengland\n",
      "75.\tunited kingdom (excluding england: 2005acs)\n",
      "76.\tother northern europe\n",
      "77.\tfrance\n",
      "78.\tother western europe\n",
      "79.\titaly\n",
      "80.\tspain\n",
      "81.\tgermany\n",
      "82.\tpoland\n",
      "83.\tromania\n",
      "84.\tother eastern europe\n",
      "85.\tother northern or eastern europe\n",
      "86.\tussr\n",
      "87.\tukraine\n",
      "88.\teurope, ns\n",
      "89.\tchina\n",
      "90.\tjapan\n",
      "91.\tkorea\n",
      "92.\ttaiwan\n",
      "93.\tphilippines\n",
      "94.\tthailand\n",
      "95.\tvietnam\n",
      "96.\tother south east asia\n",
      "97.\tnepal\n",
      "98.\tindia\n",
      "99.\tiran\n",
      "100.\tiraq\n",
      "101.\tpakistan\n",
      "102.\tisrael/palestine\n",
      "103.\tjordan\n",
      "104.\tunited arab emirates\n",
      "105.\tsaudi arabia\n",
      "106.\tturkey\n",
      "107.\tafghanistan\n",
      "108.\tother western asia\n",
      "109.\tasia, nec\n",
      "110.\tnorthern africa\n",
      "111.\tegypt\n",
      "112.\tnigeria\n",
      "113.\twestern africa\n",
      "114.\teastern africa\n",
      "115.\tethiopia\n",
      "116.\tkenya\n",
      "117.\tsouth africa (union of)\n",
      "118.\tafrica, nec\n",
      "119.\taustralia\n",
      "120.\tpacific islands (australia and new zealand subregions, not specified, oceania and at sea: acs)\n",
      "121.\tabroad (unknown) or at sea\n"
     ]
    }
   ],
   "source": [
    "for index,category in enumerate(working_data['migplac1'].cat.categories):\n",
    "    print(f\"{index}.\\t{category}\")"
   ]
  },
  {
   "cell_type": "code",
   "execution_count": 9,
   "metadata": {},
   "outputs": [
    {
     "data": {
      "text/plain": [
       "Index(['n/a', 'born abroad of american parents', 'naturalized citizen',\n",
       "       'not a citizen'],\n",
       "      dtype='object')"
      ]
     },
     "execution_count": 9,
     "metadata": {},
     "output_type": "execute_result"
    }
   ],
   "source": [
    "working_data['citizen'].cat.categories"
   ]
  },
  {
   "cell_type": "code",
   "execution_count": 10,
   "metadata": {},
   "outputs": [],
   "source": [
    "mask_state = working_data['statefip'] == 'california'\n",
    "mask_citizen = working_data['citizen'] != 'n/a'\n",
    "mask_newlyarrivals = (working_data['migplac1'] >= 'canada') \n",
    "\n",
    "mask_latam = (working_data['migplac1'] >= 'mexico') & (working_data['migplac1'] <= 'south america, nec')\n",
    "mask_asia = (working_data['migplac1'] >= 'china') & (working_data['migplac1'] <= 'asia, nec')"
   ]
  },
  {
   "cell_type": "code",
   "execution_count": 11,
   "metadata": {},
   "outputs": [],
   "source": [
    "california = working_data[mask_state & mask_newlyarrivals & mask_citizen].copy()"
   ]
  },
  {
   "cell_type": "code",
   "execution_count": 12,
   "metadata": {},
   "outputs": [],
   "source": [
    "california.loc[mask_latam, 'place of origin'] = 'Latin America'\n",
    "california.loc[mask_asia, 'place of origin'] = 'Asia'\n",
    "california['place of origin'].fillna('Other', inplace = True)"
   ]
  },
  {
   "cell_type": "code",
   "execution_count": 13,
   "metadata": {},
   "outputs": [
    {
     "data": {
      "text/html": [
       "<div>\n",
       "<style scoped>\n",
       "    .dataframe tbody tr th:only-of-type {\n",
       "        vertical-align: middle;\n",
       "    }\n",
       "\n",
       "    .dataframe tbody tr th {\n",
       "        vertical-align: top;\n",
       "    }\n",
       "\n",
       "    .dataframe thead th {\n",
       "        text-align: right;\n",
       "    }\n",
       "</style>\n",
       "<table border=\"1\" class=\"dataframe\">\n",
       "  <thead>\n",
       "    <tr style=\"text-align: right;\">\n",
       "      <th></th>\n",
       "      <th>year</th>\n",
       "      <th>perwt</th>\n",
       "      <th>statefip</th>\n",
       "      <th>migplac1</th>\n",
       "      <th>citizen</th>\n",
       "      <th>bpld</th>\n",
       "      <th>place of origin</th>\n",
       "    </tr>\n",
       "  </thead>\n",
       "  <tbody>\n",
       "    <tr>\n",
       "      <td>696</td>\n",
       "      <td>2004</td>\n",
       "      <td>849</td>\n",
       "      <td>california</td>\n",
       "      <td>mexico</td>\n",
       "      <td>not a citizen</td>\n",
       "      <td>mexico</td>\n",
       "      <td>Latin America</td>\n",
       "    </tr>\n",
       "    <tr>\n",
       "      <td>697</td>\n",
       "      <td>2004</td>\n",
       "      <td>668</td>\n",
       "      <td>california</td>\n",
       "      <td>mexico</td>\n",
       "      <td>not a citizen</td>\n",
       "      <td>mexico</td>\n",
       "      <td>Latin America</td>\n",
       "    </tr>\n",
       "    <tr>\n",
       "      <td>1045</td>\n",
       "      <td>2004</td>\n",
       "      <td>169</td>\n",
       "      <td>california</td>\n",
       "      <td>canada</td>\n",
       "      <td>born abroad of american parents</td>\n",
       "      <td>canada</td>\n",
       "      <td>Other</td>\n",
       "    </tr>\n",
       "    <tr>\n",
       "      <td>1219</td>\n",
       "      <td>2004</td>\n",
       "      <td>292</td>\n",
       "      <td>california</td>\n",
       "      <td>japan</td>\n",
       "      <td>not a citizen</td>\n",
       "      <td>japan</td>\n",
       "      <td>Asia</td>\n",
       "    </tr>\n",
       "    <tr>\n",
       "      <td>1252</td>\n",
       "      <td>2004</td>\n",
       "      <td>236</td>\n",
       "      <td>california</td>\n",
       "      <td>other northern or eastern europe</td>\n",
       "      <td>not a citizen</td>\n",
       "      <td>vietnam</td>\n",
       "      <td>Other</td>\n",
       "    </tr>\n",
       "  </tbody>\n",
       "</table>\n",
       "</div>"
      ],
      "text/plain": [
       "      year  perwt    statefip                          migplac1  \\\n",
       "696   2004    849  california                            mexico   \n",
       "697   2004    668  california                            mexico   \n",
       "1045  2004    169  california                            canada   \n",
       "1219  2004    292  california                             japan   \n",
       "1252  2004    236  california  other northern or eastern europe   \n",
       "\n",
       "                              citizen     bpld place of origin  \n",
       "696                     not a citizen   mexico   Latin America  \n",
       "697                     not a citizen   mexico   Latin America  \n",
       "1045  born abroad of american parents   canada           Other  \n",
       "1219                    not a citizen    japan            Asia  \n",
       "1252                    not a citizen  vietnam           Other  "
      ]
     },
     "execution_count": 13,
     "metadata": {},
     "output_type": "execute_result"
    }
   ],
   "source": [
    "california.head()"
   ]
  },
  {
   "cell_type": "code",
   "execution_count": 14,
   "metadata": {},
   "outputs": [],
   "source": [
    "time_series = california.groupby(['year', 'place of origin']).agg({'perwt': 'sum'})\n",
    "time_series.reset_index(inplace = True)"
   ]
  },
  {
   "cell_type": "code",
   "execution_count": 15,
   "metadata": {},
   "outputs": [
    {
     "data": {
      "text/html": [
       "<div>\n",
       "<style scoped>\n",
       "    .dataframe tbody tr th:only-of-type {\n",
       "        vertical-align: middle;\n",
       "    }\n",
       "\n",
       "    .dataframe tbody tr th {\n",
       "        vertical-align: top;\n",
       "    }\n",
       "\n",
       "    .dataframe thead th {\n",
       "        text-align: right;\n",
       "    }\n",
       "</style>\n",
       "<table border=\"1\" class=\"dataframe\">\n",
       "  <thead>\n",
       "    <tr style=\"text-align: right;\">\n",
       "      <th></th>\n",
       "      <th>year</th>\n",
       "      <th>place of origin</th>\n",
       "      <th>perwt</th>\n",
       "    </tr>\n",
       "  </thead>\n",
       "  <tbody>\n",
       "    <tr>\n",
       "      <td>0</td>\n",
       "      <td>2004</td>\n",
       "      <td>Asia</td>\n",
       "      <td>76102.0</td>\n",
       "    </tr>\n",
       "    <tr>\n",
       "      <td>1</td>\n",
       "      <td>2004</td>\n",
       "      <td>Latin America</td>\n",
       "      <td>142872.0</td>\n",
       "    </tr>\n",
       "    <tr>\n",
       "      <td>2</td>\n",
       "      <td>2004</td>\n",
       "      <td>Other</td>\n",
       "      <td>24440.0</td>\n",
       "    </tr>\n",
       "    <tr>\n",
       "      <td>3</td>\n",
       "      <td>2005</td>\n",
       "      <td>Asia</td>\n",
       "      <td>89655.0</td>\n",
       "    </tr>\n",
       "    <tr>\n",
       "      <td>4</td>\n",
       "      <td>2005</td>\n",
       "      <td>Latin America</td>\n",
       "      <td>124924.0</td>\n",
       "    </tr>\n",
       "  </tbody>\n",
       "</table>\n",
       "</div>"
      ],
      "text/plain": [
       "   year place of origin     perwt\n",
       "0  2004            Asia   76102.0\n",
       "1  2004   Latin America  142872.0\n",
       "2  2004           Other   24440.0\n",
       "3  2005            Asia   89655.0\n",
       "4  2005   Latin America  124924.0"
      ]
     },
     "execution_count": 15,
     "metadata": {},
     "output_type": "execute_result"
    }
   ],
   "source": [
    "time_series.head()"
   ]
  },
  {
   "cell_type": "markdown",
   "metadata": {},
   "source": [
    "# Chart"
   ]
  },
  {
   "cell_type": "code",
   "execution_count": 16,
   "metadata": {},
   "outputs": [],
   "source": [
    "import altair as alt"
   ]
  },
  {
   "cell_type": "code",
   "execution_count": 17,
   "metadata": {},
   "outputs": [
    {
     "data": {
      "application/vnd.vegalite.v3+json": {
       "$schema": "https://vega.github.io/schema/vega-lite/v3.3.0.json",
       "config": {
        "mark": {
         "tooltip": null
        },
        "view": {
         "height": 300,
         "width": 400
        }
       },
       "data": {
        "name": "data-ea0cc5c291bc063c54d788a9397e9c99"
       },
       "datasets": {
        "data-ea0cc5c291bc063c54d788a9397e9c99": [
         {
          "perwt": 76102,
          "place of origin": "Asia",
          "year": "2004"
         },
         {
          "perwt": 142872,
          "place of origin": "Latin America",
          "year": "2004"
         },
         {
          "perwt": 24440,
          "place of origin": "Other",
          "year": "2004"
         },
         {
          "perwt": 89655,
          "place of origin": "Asia",
          "year": "2005"
         },
         {
          "perwt": 124924,
          "place of origin": "Latin America",
          "year": "2005"
         },
         {
          "perwt": 33459,
          "place of origin": "Other",
          "year": "2005"
         },
         {
          "perwt": 102195,
          "place of origin": "Asia",
          "year": "2006"
         },
         {
          "perwt": 114004,
          "place of origin": "Latin America",
          "year": "2006"
         },
         {
          "perwt": 41080,
          "place of origin": "Other",
          "year": "2006"
         },
         {
          "perwt": 99807,
          "place of origin": "Asia",
          "year": "2007"
         },
         {
          "perwt": 80425,
          "place of origin": "Latin America",
          "year": "2007"
         },
         {
          "perwt": 41330,
          "place of origin": "Other",
          "year": "2007"
         },
         {
          "perwt": 107064,
          "place of origin": "Asia",
          "year": "2008"
         },
         {
          "perwt": 81178,
          "place of origin": "Latin America",
          "year": "2008"
         },
         {
          "perwt": 41066,
          "place of origin": "Other",
          "year": "2008"
         },
         {
          "perwt": 94847,
          "place of origin": "Asia",
          "year": "2009"
         },
         {
          "perwt": 51056,
          "place of origin": "Latin America",
          "year": "2009"
         },
         {
          "perwt": 38106,
          "place of origin": "Other",
          "year": "2009"
         },
         {
          "perwt": 106779,
          "place of origin": "Asia",
          "year": "2010"
         },
         {
          "perwt": 48944,
          "place of origin": "Latin America",
          "year": "2010"
         },
         {
          "perwt": 34559,
          "place of origin": "Other",
          "year": "2010"
         },
         {
          "perwt": 128124,
          "place of origin": "Asia",
          "year": "2011"
         },
         {
          "perwt": 43180,
          "place of origin": "Latin America",
          "year": "2011"
         },
         {
          "perwt": 40875,
          "place of origin": "Other",
          "year": "2011"
         },
         {
          "perwt": 106155,
          "place of origin": "Asia",
          "year": "2012"
         },
         {
          "perwt": 39476,
          "place of origin": "Latin America",
          "year": "2012"
         },
         {
          "perwt": 45883,
          "place of origin": "Other",
          "year": "2012"
         },
         {
          "perwt": 121653,
          "place of origin": "Asia",
          "year": "2013"
         },
         {
          "perwt": 46864,
          "place of origin": "Latin America",
          "year": "2013"
         },
         {
          "perwt": 48289,
          "place of origin": "Other",
          "year": "2013"
         },
         {
          "perwt": 122527,
          "place of origin": "Asia",
          "year": "2014"
         },
         {
          "perwt": 51911,
          "place of origin": "Latin America",
          "year": "2014"
         },
         {
          "perwt": 56660,
          "place of origin": "Other",
          "year": "2014"
         },
         {
          "perwt": 145444,
          "place of origin": "Asia",
          "year": "2015"
         },
         {
          "perwt": 55273,
          "place of origin": "Latin America",
          "year": "2015"
         },
         {
          "perwt": 56968,
          "place of origin": "Other",
          "year": "2015"
         },
         {
          "perwt": 135778,
          "place of origin": "Asia",
          "year": "2016"
         },
         {
          "perwt": 62021,
          "place of origin": "Latin America",
          "year": "2016"
         },
         {
          "perwt": 54090,
          "place of origin": "Other",
          "year": "2016"
         },
         {
          "perwt": 138203,
          "place of origin": "Asia",
          "year": "2017"
         },
         {
          "perwt": 53388,
          "place of origin": "Latin America",
          "year": "2017"
         },
         {
          "perwt": 55687,
          "place of origin": "Other",
          "year": "2017"
         },
         {
          "perwt": 125011,
          "place of origin": "Asia",
          "year": "2018"
         },
         {
          "perwt": 45543,
          "place of origin": "Latin America",
          "year": "2018"
         },
         {
          "perwt": 50696,
          "place of origin": "Other",
          "year": "2018"
         }
        ]
       },
       "encoding": {
        "color": {
         "field": "place of origin",
         "type": "nominal"
        },
        "x": {
         "axis": {
          "title": ""
         },
         "field": "year",
         "type": "temporal"
        },
        "y": {
         "axis": {
          "title": "Newly Arrivals"
         },
         "field": "perwt",
         "type": "quantitative"
        }
       },
       "mark": "line",
       "title": "Asia has surpassed Latin America as the leading source of recent immigrants to California",
       "width": 600
      },
      "image/png": "[encoded data removed]",
      "text/plain": [
       "<VegaLite 3 object>\n",
       "\n",
       "If you see this message, it means the renderer has not been properly enabled\n",
       "for the frontend that you are using. For more information, see\n",
       "https://altair-viz.github.io/user_guide/troubleshooting.html\n"
      ]
     },
     "execution_count": 17,
     "metadata": {},
     "output_type": "execute_result"
    }
   ],
   "source": [
    "alt.Chart(time_series).mark_line().encode(\n",
    "    x = alt.X('year:T', axis = alt.Axis(title = \"\")),\n",
    "    y = alt.Y('perwt:Q', axis = alt.Axis(title = \"Newly Arrivals\")),\n",
    "    color = alt.Color(\"place of origin:N\",),\n",
    ").properties(\n",
    "    title = \"Asia has surpassed Latin America as the leading source of recent immigrants to California\",\n",
    "    width = 600\n",
    ")"
   ]
  },
  {
   "cell_type": "markdown",
   "metadata": {},
   "source": [
    "[**Other notebook**](00_bullet_4_text.ipynb)"
   ]
  }
 ],
 "metadata": {
  "kernelspec": {
   "display_name": "Python 3",
   "language": "python",
   "name": "python3"
  },
  "language_info": {
   "codemirror_mode": {
    "name": "ipython",
    "version": 3
   },
   "file_extension": ".py",
   "mimetype": "text/x-python",
   "name": "python",
   "nbconvert_exporter": "python",
   "pygments_lexer": "ipython3",
   "version": "3.7.3"
  }
 },
 "nbformat": 4,
 "nbformat_minor": 4
}
