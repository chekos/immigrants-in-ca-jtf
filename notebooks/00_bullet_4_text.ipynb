{
 "cells": [
  {
   "cell_type": "markdown",
   "metadata": {},
   "source": [
    "# Immigrants in CA - JTF\n",
    "#### A repo containing the code and data to reproduce the numbers in PPIC's Immigrants in CA JTF\n",
    "\n",
    "<details>\n",
    "    <summary><strong>Goal</strong></summary>\n",
    "    The goal of this notebook is to reproduce the numbers of bullet 4 in the Immigrants in CA JTF. \n",
    "</details>\n",
    "\n",
    "<details>\n",
    "    <summary><strong>Context</strong></summary>\n",
    "    We've downloaded raw data from <strong><i>ipums.org</i></strong>.\n",
    "</details>"
   ]
  },
  {
   "cell_type": "markdown",
   "metadata": {},
   "source": [
    "***\n",
    "### Set up working environment"
   ]
  },
  {
   "cell_type": "code",
   "execution_count": 1,
   "metadata": {},
   "outputs": [
    {
     "data": {
      "text/plain": [
       "'08-Jan-20'"
      ]
     },
     "execution_count": 1,
     "metadata": {},
     "output_type": "execute_result"
    }
   ],
   "source": [
    "import pandas as pd\n",
    "import gzip\n",
    "from pathlib import Path\n",
    "from tools import tree\n",
    "from datetime import datetime as dt\n",
    "today = dt.today().strftime(\"%d-%b-%y\")\n",
    "\n",
    "today"
   ]
  },
  {
   "cell_type": "code",
   "execution_count": 2,
   "metadata": {},
   "outputs": [],
   "source": [
    "RAW_DATA = Path(\"../data/raw/\")\n",
    "INTERIM_DATA = Path(\"../data/interim/\")\n",
    "PROCESSED_DATA = Path(\"../data/processed/\")\n",
    "FINAL_DATA = Path(\"../data/final/\")"
   ]
  },
  {
   "cell_type": "code",
   "execution_count": 3,
   "metadata": {},
   "outputs": [
    {
     "name": "stdout",
     "output_type": "stream",
     "text": [
      "+ ..\\data\\raw\n",
      "    + usa_00066.dta.gz\n",
      "    + usa_00067.dta.gz\n",
      "    + usa_00068.dta.gz\n",
      "    + usa_00069.dta.gz\n",
      "    + usa_00070.dta.gz\n"
     ]
    }
   ],
   "source": [
    "tree(RAW_DATA)"
   ]
  },
  {
   "cell_type": "markdown",
   "metadata": {},
   "source": [
    "***\n",
    "### Loading the data to `pandas`. \n",
    "\n",
    "**Must use `gzip` to read gzipped stata file. This is not the case of csv's but stata files maintain _categoricals_.**"
   ]
  },
  {
   "cell_type": "code",
   "execution_count": 4,
   "metadata": {},
   "outputs": [],
   "source": [
    "with gzip.open(RAW_DATA / 'usa_00070.dta.gz', 'r') as file:\n",
    "    data = pd.read_stata(file)"
   ]
  },
  {
   "cell_type": "code",
   "execution_count": 5,
   "metadata": {},
   "outputs": [
    {
     "data": {
      "text/html": [
       "<div>\n",
       "<style scoped>\n",
       "    .dataframe tbody tr th:only-of-type {\n",
       "        vertical-align: middle;\n",
       "    }\n",
       "\n",
       "    .dataframe tbody tr th {\n",
       "        vertical-align: top;\n",
       "    }\n",
       "\n",
       "    .dataframe thead th {\n",
       "        text-align: right;\n",
       "    }\n",
       "</style>\n",
       "<table border=\"1\" class=\"dataframe\">\n",
       "  <thead>\n",
       "    <tr style=\"text-align: right;\">\n",
       "      <th></th>\n",
       "      <th>year</th>\n",
       "      <th>sample</th>\n",
       "      <th>serial</th>\n",
       "      <th>cbserial</th>\n",
       "      <th>hhwt</th>\n",
       "      <th>cluster</th>\n",
       "      <th>statefip</th>\n",
       "      <th>strata</th>\n",
       "      <th>gq</th>\n",
       "      <th>pernum</th>\n",
       "      <th>perwt</th>\n",
       "      <th>age</th>\n",
       "      <th>bpl</th>\n",
       "      <th>bpld</th>\n",
       "      <th>citizen</th>\n",
       "      <th>yrsusa2</th>\n",
       "      <th>migplac1</th>\n",
       "    </tr>\n",
       "  </thead>\n",
       "  <tbody>\n",
       "    <tr>\n",
       "      <td>0</td>\n",
       "      <td>2006</td>\n",
       "      <td>2006 acs</td>\n",
       "      <td>65923</td>\n",
       "      <td>2.0</td>\n",
       "      <td>65</td>\n",
       "      <td>2.006001e+12</td>\n",
       "      <td>california</td>\n",
       "      <td>541606</td>\n",
       "      <td>households under 1970 definition</td>\n",
       "      <td>1</td>\n",
       "      <td>65</td>\n",
       "      <td>37</td>\n",
       "      <td>california</td>\n",
       "      <td>california</td>\n",
       "      <td>n/a</td>\n",
       "      <td>n/a</td>\n",
       "      <td>n/a</td>\n",
       "    </tr>\n",
       "    <tr>\n",
       "      <td>1</td>\n",
       "      <td>2006</td>\n",
       "      <td>2006 acs</td>\n",
       "      <td>65923</td>\n",
       "      <td>2.0</td>\n",
       "      <td>65</td>\n",
       "      <td>2.006001e+12</td>\n",
       "      <td>california</td>\n",
       "      <td>541606</td>\n",
       "      <td>households under 1970 definition</td>\n",
       "      <td>2</td>\n",
       "      <td>72</td>\n",
       "      <td>9</td>\n",
       "      <td>california</td>\n",
       "      <td>california</td>\n",
       "      <td>n/a</td>\n",
       "      <td>n/a</td>\n",
       "      <td>n/a</td>\n",
       "    </tr>\n",
       "    <tr>\n",
       "      <td>2</td>\n",
       "      <td>2006</td>\n",
       "      <td>2006 acs</td>\n",
       "      <td>65923</td>\n",
       "      <td>2.0</td>\n",
       "      <td>65</td>\n",
       "      <td>2.006001e+12</td>\n",
       "      <td>california</td>\n",
       "      <td>541606</td>\n",
       "      <td>households under 1970 definition</td>\n",
       "      <td>3</td>\n",
       "      <td>71</td>\n",
       "      <td>6</td>\n",
       "      <td>california</td>\n",
       "      <td>california</td>\n",
       "      <td>n/a</td>\n",
       "      <td>n/a</td>\n",
       "      <td>n/a</td>\n",
       "    </tr>\n",
       "    <tr>\n",
       "      <td>3</td>\n",
       "      <td>2006</td>\n",
       "      <td>2006 acs</td>\n",
       "      <td>65923</td>\n",
       "      <td>2.0</td>\n",
       "      <td>65</td>\n",
       "      <td>2.006001e+12</td>\n",
       "      <td>california</td>\n",
       "      <td>541606</td>\n",
       "      <td>households under 1970 definition</td>\n",
       "      <td>4</td>\n",
       "      <td>67</td>\n",
       "      <td>36</td>\n",
       "      <td>california</td>\n",
       "      <td>california</td>\n",
       "      <td>n/a</td>\n",
       "      <td>n/a</td>\n",
       "      <td>n/a</td>\n",
       "    </tr>\n",
       "    <tr>\n",
       "      <td>4</td>\n",
       "      <td>2006</td>\n",
       "      <td>2006 acs</td>\n",
       "      <td>65924</td>\n",
       "      <td>16.0</td>\n",
       "      <td>59</td>\n",
       "      <td>2.006001e+12</td>\n",
       "      <td>california</td>\n",
       "      <td>811506</td>\n",
       "      <td>households under 1970 definition</td>\n",
       "      <td>1</td>\n",
       "      <td>60</td>\n",
       "      <td>49</td>\n",
       "      <td>minnesota</td>\n",
       "      <td>minnesota</td>\n",
       "      <td>n/a</td>\n",
       "      <td>n/a</td>\n",
       "      <td>n/a</td>\n",
       "    </tr>\n",
       "  </tbody>\n",
       "</table>\n",
       "</div>"
      ],
      "text/plain": [
       "   year    sample  serial  cbserial  hhwt       cluster    statefip  strata  \\\n",
       "0  2006  2006 acs   65923       2.0    65  2.006001e+12  california  541606   \n",
       "1  2006  2006 acs   65923       2.0    65  2.006001e+12  california  541606   \n",
       "2  2006  2006 acs   65923       2.0    65  2.006001e+12  california  541606   \n",
       "3  2006  2006 acs   65923       2.0    65  2.006001e+12  california  541606   \n",
       "4  2006  2006 acs   65924      16.0    59  2.006001e+12  california  811506   \n",
       "\n",
       "                                 gq  pernum  perwt age         bpl  \\\n",
       "0  households under 1970 definition       1     65  37  california   \n",
       "1  households under 1970 definition       2     72   9  california   \n",
       "2  households under 1970 definition       3     71   6  california   \n",
       "3  households under 1970 definition       4     67  36  california   \n",
       "4  households under 1970 definition       1     60  49   minnesota   \n",
       "\n",
       "         bpld citizen yrsusa2 migplac1  \n",
       "0  california     n/a     n/a      n/a  \n",
       "1  california     n/a     n/a      n/a  \n",
       "2  california     n/a     n/a      n/a  \n",
       "3  california     n/a     n/a      n/a  \n",
       "4   minnesota     n/a     n/a      n/a  "
      ]
     },
     "execution_count": 5,
     "metadata": {},
     "output_type": "execute_result"
    }
   ],
   "source": [
    "data.head()"
   ]
  },
  {
   "cell_type": "markdown",
   "metadata": {},
   "source": [
    "***\n",
    "### Subsetting only the year of interest.\n",
    "\n",
    "**Note: `year` is still a categorical variable so we must use strings to filter on it.**"
   ]
  },
  {
   "cell_type": "code",
   "execution_count": 6,
   "metadata": {},
   "outputs": [
    {
     "data": {
      "text/plain": [
       "Index(['2006', '2007', '2008', '2009', '2010', '2011', '2012', '2013', '2014',\n",
       "       '2015', '2016', '2017', '2018'],\n",
       "      dtype='object')"
      ]
     },
     "execution_count": 6,
     "metadata": {},
     "output_type": "execute_result"
    }
   ],
   "source": [
    "data['year'].cat.categories"
   ]
  },
  {
   "cell_type": "code",
   "execution_count": 7,
   "metadata": {},
   "outputs": [],
   "source": [
    "working_data = data[data['year'] == '2016'].copy()"
   ]
  },
  {
   "cell_type": "markdown",
   "metadata": {},
   "source": [
    "There are too many categories to use `data['bpld'].cat.categories` so we print them all out, in order, to choose the cut off points for our filters later on."
   ]
  },
  {
   "cell_type": "code",
   "execution_count": 8,
   "metadata": {},
   "outputs": [
    {
     "name": "stdout",
     "output_type": "stream",
     "text": [
      "1.\talabama\n",
      "2.\talaska\n",
      "3.\tarizona\n",
      "4.\tarkansas\n",
      "5.\tcalifornia\n",
      "6.\tcolorado\n",
      "7.\tconnecticut\n",
      "8.\tdelaware\n",
      "9.\tdistrict of columbia\n",
      "10.\tflorida\n",
      "11.\tgeorgia\n",
      "12.\thawaii\n",
      "13.\tidaho\n",
      "14.\tillinois\n",
      "15.\tindiana\n",
      "16.\tiowa\n",
      "17.\tkansas\n",
      "18.\tkentucky\n",
      "19.\tlouisiana\n",
      "20.\tmaine\n",
      "21.\tmaryland\n",
      "22.\tmassachusetts\n",
      "23.\tmichigan\n",
      "24.\tminnesota\n",
      "25.\tmississippi\n",
      "26.\tmissouri\n",
      "27.\tmontana\n",
      "28.\tnebraska\n",
      "29.\tnevada\n",
      "30.\tnew hampshire\n",
      "31.\tnew jersey\n",
      "32.\tnew mexico\n",
      "33.\tnew york\n",
      "34.\tnorth carolina\n",
      "35.\tnorth dakota\n",
      "36.\tohio\n",
      "37.\toklahoma\n",
      "38.\toregon\n",
      "39.\tpennsylvania\n",
      "40.\trhode island\n",
      "41.\tsouth carolina\n",
      "42.\tsouth dakota\n",
      "43.\ttennessee\n",
      "44.\ttexas\n",
      "45.\tutah\n",
      "46.\tvermont\n",
      "47.\tvirginia\n",
      "48.\twashington\n",
      "49.\twest virginia\n",
      "50.\twisconsin\n",
      "51.\twyoming\n",
      "52.\tamerican samoa\n",
      "53.\tsamoa, 1940-1950\n",
      "54.\tguam\n",
      "55.\tpuerto rico\n",
      "56.\tu.s. virgin islands\n",
      "57.\tcanada\n",
      "58.\tbermuda\n",
      "59.\tcape verde\n",
      "60.\tmexico\n",
      "61.\tbelize/british honduras\n",
      "62.\tcosta rica\n",
      "63.\tel salvador\n",
      "64.\tguatemala\n",
      "65.\thonduras\n",
      "66.\tnicaragua\n",
      "67.\tpanama\n",
      "68.\tcuba\n",
      "69.\tdominican republic\n",
      "70.\thaiti\n",
      "71.\tjamaica\n",
      "72.\tantigua-barbuda\n",
      "73.\tbahamas\n",
      "74.\tbarbados\n",
      "75.\tdominica\n",
      "76.\tgrenada\n",
      "77.\tst. lucia\n",
      "78.\tst. vincent\n",
      "79.\ttrinidad and tobago\n",
      "80.\tcaribbean, ns\n",
      "81.\twest indies, ns\n",
      "82.\tamericas, ns\n",
      "83.\targentina\n",
      "84.\tbolivia\n",
      "85.\tbrazil\n",
      "86.\tchile\n",
      "87.\tcolombia\n",
      "88.\tecuador\n",
      "89.\tguyana/british guiana\n",
      "90.\tparaguay\n",
      "91.\tperu\n",
      "92.\turuguay\n",
      "93.\tvenezuela\n",
      "94.\tsouth america, ns\n",
      "95.\tdenmark\n",
      "96.\tfinland\n",
      "97.\ticeland\n",
      "98.\tnorway\n",
      "99.\tsweden\n",
      "100.\tengland\n",
      "101.\tscotland\n",
      "102.\tunited kingdom, ns\n",
      "103.\tireland\n",
      "104.\tnorthern ireland\n",
      "105.\tbelgium\n",
      "106.\tfrance\n",
      "107.\tnetherlands\n",
      "108.\tswitzerland\n",
      "109.\talbania\n",
      "110.\tgreece\n",
      "111.\tmacedonia\n",
      "112.\titaly\n",
      "113.\tportugal\n",
      "114.\tazores\n",
      "115.\tspain\n",
      "116.\taustria\n",
      "117.\tbulgaria\n",
      "118.\tczechoslovakia\n",
      "119.\tslovakia\n",
      "120.\tczech republic\n",
      "121.\tgermany\n",
      "122.\thungary\n",
      "123.\tpoland\n",
      "124.\tromania\n",
      "125.\tyugoslavia\n",
      "126.\tcroatia\n",
      "127.\tmontenegro\n",
      "128.\tserbia\n",
      "129.\tbosnia\n",
      "130.\testonia\n",
      "131.\tlatvia\n",
      "132.\tlithuania\n",
      "133.\tother ussr/russia\n",
      "134.\tbyelorussia\n",
      "135.\tmoldavia\n",
      "136.\tukraine\n",
      "137.\tarmenia\n",
      "138.\tazerbaijan\n",
      "139.\trepublic of georgia\n",
      "140.\tkazakhstan\n",
      "141.\tkirghizia\n",
      "142.\tuzbekistan\n",
      "143.\tussr, ns\n",
      "144.\teurope, ns\n",
      "145.\tchina\n",
      "146.\thong kong\n",
      "147.\tmongolia\n",
      "148.\ttaiwan\n",
      "149.\tjapan\n",
      "150.\tkorea\n",
      "151.\teast asia, ns\n",
      "152.\tcambodia (kampuchea)\n",
      "153.\tindonesia\n",
      "154.\tlaos\n",
      "155.\tmalaysia\n",
      "156.\tphilippines\n",
      "157.\tsingapore\n",
      "158.\tthailand\n",
      "159.\tvietnam\n",
      "160.\tafghanistan\n",
      "161.\tindia\n",
      "162.\tbangladesh\n",
      "163.\tbhutan\n",
      "164.\tburma (myanmar)\n",
      "165.\tpakistan\n",
      "166.\tsri lanka (ceylon)\n",
      "167.\tiran\n",
      "168.\tnepal\n",
      "169.\tcyprus\n",
      "170.\tiraq\n",
      "171.\tisrael/palestine\n",
      "172.\tjordan\n",
      "173.\tkuwait\n",
      "174.\tlebanon\n",
      "175.\tsaudi arabia\n",
      "176.\tsyria\n",
      "177.\tturkey\n",
      "178.\tunited arab emirates\n",
      "179.\tyemen arab republic (north)\n",
      "180.\tasia, nec/ns\n",
      "181.\talgeria\n",
      "182.\tegypt/united arab rep\n",
      "183.\tlibya\n",
      "184.\tmorocco\n",
      "185.\tsudan\n",
      "186.\ttunisia\n",
      "187.\tnorth africa, ns\n",
      "188.\tgambia\n",
      "189.\tghana\n",
      "190.\tguinea\n",
      "191.\tivory coast\n",
      "192.\tliberia\n",
      "193.\tnigeria\n",
      "194.\tsenegal\n",
      "195.\tsierra leone\n",
      "196.\ttogo\n",
      "197.\twestern africa, ns\n",
      "198.\tethiopia\n",
      "199.\tkenya\n",
      "200.\trwanda\n",
      "201.\tsomalia\n",
      "202.\ttanzania\n",
      "203.\tuganda\n",
      "204.\tzambia\n",
      "205.\tzimbabwe\n",
      "206.\teastern africa, nec/ns\n",
      "207.\teritrea\n",
      "208.\tcameroon\n",
      "209.\tcongo\n",
      "210.\tzaire\n",
      "211.\tsouth africa (union of)\n",
      "212.\tafrica, ns/nec\n",
      "213.\taustralia\n",
      "214.\tnew zealand\n",
      "215.\tfiji\n",
      "216.\ttonga\n",
      "217.\tmarshall islands\n",
      "218.\tmicronesia\n",
      "219.\tnorthern mariana islands\n",
      "220.\tother n.e.c\n"
     ]
    }
   ],
   "source": [
    "for index,category in enumerate(working_data['bpld'].cat.categories, start = 1):\n",
    "    print(f\"{index}.\\t{category}\")"
   ]
  },
  {
   "cell_type": "markdown",
   "metadata": {},
   "source": [
    "### Filters"
   ]
  },
  {
   "cell_type": "code",
   "execution_count": 9,
   "metadata": {},
   "outputs": [],
   "source": [
    "mask_state = working_data['statefip'] == 'california'\n",
    "mask_5years = working_data['yrsusa2'] == \"0-5 years\"\n",
    "mask_latam = (working_data['bpld'] >= 'mexico') & (working_data['bpld'] <= 'south america, ns')\n",
    "mask_asia = (working_data['bpld'] >= 'china') & (working_data['bpld'] <= 'asia, nec/ns')"
   ]
  },
  {
   "cell_type": "markdown",
   "metadata": {},
   "source": [
    "Subsetting the dataset to only California and those _recently arrived_ (0-5 years)."
   ]
  },
  {
   "cell_type": "code",
   "execution_count": 10,
   "metadata": {},
   "outputs": [],
   "source": [
    "california = working_data[mask_state & mask_5years].copy()"
   ]
  },
  {
   "cell_type": "markdown",
   "metadata": {},
   "source": [
    "New column: `place of origin` - aggregation of `bpld`."
   ]
  },
  {
   "cell_type": "code",
   "execution_count": 11,
   "metadata": {},
   "outputs": [],
   "source": [
    "california.loc[mask_latam, 'place of origin'] = 'Latin America'\n",
    "california.loc[mask_asia, 'place of origin'] = 'Asia'\n",
    "california['place of origin'].fillna('Other', inplace = True)"
   ]
  },
  {
   "cell_type": "code",
   "execution_count": 12,
   "metadata": {},
   "outputs": [],
   "source": [
    "place_of_origin_shares = california.groupby(['place of origin']).agg({'perwt': 'sum'}).apply(lambda x: x / x.sum()).style.format(\"{:.0%}\")"
   ]
  },
  {
   "cell_type": "code",
   "execution_count": 13,
   "metadata": {},
   "outputs": [
    {
     "data": {
      "text/html": [
       "<style  type=\"text/css\" >\n",
       "</style><table id=\"T_9ba7a1e8_327a_11ea_aff6_4889e795cac6\" ><thead>    <tr>        <th class=\"blank level0\" ></th>        <th class=\"col_heading level0 col0\" >perwt</th>    </tr>    <tr>        <th class=\"index_name level0\" >place of origin</th>        <th class=\"blank\" ></th>    </tr></thead><tbody>\n",
       "                <tr>\n",
       "                        <th id=\"T_9ba7a1e8_327a_11ea_aff6_4889e795cac6level0_row0\" class=\"row_heading level0 row0\" >Asia</th>\n",
       "                        <td id=\"T_9ba7a1e8_327a_11ea_aff6_4889e795cac6row0_col0\" class=\"data row0 col0\" >55%</td>\n",
       "            </tr>\n",
       "            <tr>\n",
       "                        <th id=\"T_9ba7a1e8_327a_11ea_aff6_4889e795cac6level0_row1\" class=\"row_heading level0 row1\" >Latin America</th>\n",
       "                        <td id=\"T_9ba7a1e8_327a_11ea_aff6_4889e795cac6row1_col0\" class=\"data row1 col0\" >29%</td>\n",
       "            </tr>\n",
       "            <tr>\n",
       "                        <th id=\"T_9ba7a1e8_327a_11ea_aff6_4889e795cac6level0_row2\" class=\"row_heading level0 row2\" >Other</th>\n",
       "                        <td id=\"T_9ba7a1e8_327a_11ea_aff6_4889e795cac6row2_col0\" class=\"data row2 col0\" >16%</td>\n",
       "            </tr>\n",
       "    </tbody></table>"
      ],
      "text/plain": [
       "<pandas.io.formats.style.Styler at 0x21f39860ef0>"
      ]
     },
     "execution_count": 13,
     "metadata": {},
     "output_type": "execute_result"
    }
   ],
   "source": [
    "place_of_origin_shares"
   ]
  },
  {
   "cell_type": "markdown",
   "metadata": {},
   "source": [
    "[**Other notebook**](00_newly_arrivals_chart.ipynb)"
   ]
  }
 ],
 "metadata": {
  "kernelspec": {
   "display_name": "Python 3",
   "language": "python",
   "name": "python3"
  },
  "language_info": {
   "codemirror_mode": {
    "name": "ipython",
    "version": 3
   },
   "file_extension": ".py",
   "mimetype": "text/x-python",
   "name": "python",
   "nbconvert_exporter": "python",
   "pygments_lexer": "ipython3",
   "version": "3.7.3"
  }
 },
 "nbformat": 4,
 "nbformat_minor": 4
}
