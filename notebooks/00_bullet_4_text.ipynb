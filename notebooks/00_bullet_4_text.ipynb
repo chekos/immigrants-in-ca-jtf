{
 "cells": [
  {
   "cell_type": "markdown",
   "metadata": {},
   "source": [
    "# Immigrants in CA - JTF\n",
    "#### A repo containing the code and data to reproduce the numbers in PPIC's Immigrants in CA JTF\n",
    "\n",
    "<details>\n",
    "    <summary><strong>Goal</strong></summary>\n",
    "    The goal of this notebook is to reproduce the numbers of bullet 4 in the Immigrants in CA JTF. \n",
    "</details>\n",
    "\n",
    "<details>\n",
    "    <summary><strong>Context</strong></summary>\n",
    "    We've downloaded raw data from <strong><i>ipums.org</i></strong>.\n",
    "    It includes ACS 2004-2018 and the variables:\n",
    "    <ul>\n",
    "        <li>statefip</li>\n",
    "        <li>bpld</li>\n",
    "        <li>citizen</li>\n",
    "        <li>yrsusa2</li>\n",
    "        <li>migplac1</li>\n",
    "    </ul>\n",
    "    plus the typical variables included by IPUMS (perwt, hhwt, gq, etc).\n",
    "</details>"
   ]
  },
  {
   "cell_type": "markdown",
   "metadata": {},
   "source": [
    "***\n",
    "### Set up working environment"
   ]
  },
  {
   "cell_type": "code",
   "execution_count": 1,
   "metadata": {},
   "outputs": [
    {
     "data": {
      "text/plain": [
       "'09-Jan-20'"
      ]
     },
     "execution_count": 1,
     "metadata": {},
     "output_type": "execute_result"
    }
   ],
   "source": [
    "import pandas as pd\n",
    "import gzip\n",
    "from pathlib import Path\n",
    "from tools import tree\n",
    "from datetime import datetime as dt\n",
    "today = dt.today().strftime(\"%d-%b-%y\")\n",
    "\n",
    "today"
   ]
  },
  {
   "cell_type": "code",
   "execution_count": 2,
   "metadata": {},
   "outputs": [],
   "source": [
    "RAW_DATA = Path(\"../data/raw/\")\n",
    "INTERIM_DATA = Path(\"../data/interim/\")\n",
    "PROCESSED_DATA = Path(\"../data/processed/\")\n",
    "FINAL_DATA = Path(\"../data/final/\")"
   ]
  },
  {
   "cell_type": "code",
   "execution_count": 3,
   "metadata": {},
   "outputs": [
    {
     "name": "stdout",
     "output_type": "stream",
     "text": [
      "+ ..\\data\\raw\n",
      "    + usa_00072.dta.gz\n"
     ]
    }
   ],
   "source": [
    "tree(RAW_DATA)"
   ]
  },
  {
   "cell_type": "markdown",
   "metadata": {},
   "source": [
    "***\n",
    "### Loading the data to `pandas`. \n",
    "\n",
    "**Must use `gzip` to read gzipped stata file. This is not the case of csv's but stata files maintain _categoricals_.**"
   ]
  },
  {
   "cell_type": "code",
   "execution_count": 4,
   "metadata": {},
   "outputs": [],
   "source": [
    "with gzip.open(RAW_DATA / 'usa_00072.dta.gz', 'r') as file:\n",
    "    data = pd.read_stata(file)"
   ]
  },
  {
   "cell_type": "code",
   "execution_count": 5,
   "metadata": {},
   "outputs": [
    {
     "data": {
      "text/html": [
       "<div>\n",
       "<style scoped>\n",
       "    .dataframe tbody tr th:only-of-type {\n",
       "        vertical-align: middle;\n",
       "    }\n",
       "\n",
       "    .dataframe tbody tr th {\n",
       "        vertical-align: top;\n",
       "    }\n",
       "\n",
       "    .dataframe thead th {\n",
       "        text-align: right;\n",
       "    }\n",
       "</style>\n",
       "<table border=\"1\" class=\"dataframe\">\n",
       "  <thead>\n",
       "    <tr style=\"text-align: right;\">\n",
       "      <th></th>\n",
       "      <th>year</th>\n",
       "      <th>sample</th>\n",
       "      <th>serial</th>\n",
       "      <th>cbserial</th>\n",
       "      <th>hhwt</th>\n",
       "      <th>cluster</th>\n",
       "      <th>statefip</th>\n",
       "      <th>strata</th>\n",
       "      <th>gq</th>\n",
       "      <th>pernum</th>\n",
       "      <th>perwt</th>\n",
       "      <th>age</th>\n",
       "      <th>bpl</th>\n",
       "      <th>bpld</th>\n",
       "      <th>citizen</th>\n",
       "      <th>yrsusa2</th>\n",
       "      <th>migplac1</th>\n",
       "    </tr>\n",
       "  </thead>\n",
       "  <tbody>\n",
       "    <tr>\n",
       "      <td>0</td>\n",
       "      <td>2004</td>\n",
       "      <td>2004 acs</td>\n",
       "      <td>23712</td>\n",
       "      <td>NaN</td>\n",
       "      <td>208</td>\n",
       "      <td>2.004000e+12</td>\n",
       "      <td>california</td>\n",
       "      <td>6</td>\n",
       "      <td>households under 1970 definition</td>\n",
       "      <td>1</td>\n",
       "      <td>220</td>\n",
       "      <td>37</td>\n",
       "      <td>nebraska</td>\n",
       "      <td>nebraska</td>\n",
       "      <td>n/a</td>\n",
       "      <td>n/a</td>\n",
       "      <td>n/a</td>\n",
       "    </tr>\n",
       "    <tr>\n",
       "      <td>1</td>\n",
       "      <td>2004</td>\n",
       "      <td>2004 acs</td>\n",
       "      <td>23712</td>\n",
       "      <td>NaN</td>\n",
       "      <td>208</td>\n",
       "      <td>2.004000e+12</td>\n",
       "      <td>california</td>\n",
       "      <td>6</td>\n",
       "      <td>households under 1970 definition</td>\n",
       "      <td>2</td>\n",
       "      <td>222</td>\n",
       "      <td>14</td>\n",
       "      <td>california</td>\n",
       "      <td>california</td>\n",
       "      <td>n/a</td>\n",
       "      <td>n/a</td>\n",
       "      <td>n/a</td>\n",
       "    </tr>\n",
       "    <tr>\n",
       "      <td>2</td>\n",
       "      <td>2004</td>\n",
       "      <td>2004 acs</td>\n",
       "      <td>23712</td>\n",
       "      <td>NaN</td>\n",
       "      <td>208</td>\n",
       "      <td>2.004000e+12</td>\n",
       "      <td>california</td>\n",
       "      <td>6</td>\n",
       "      <td>households under 1970 definition</td>\n",
       "      <td>3</td>\n",
       "      <td>221</td>\n",
       "      <td>12</td>\n",
       "      <td>california</td>\n",
       "      <td>california</td>\n",
       "      <td>n/a</td>\n",
       "      <td>n/a</td>\n",
       "      <td>n/a</td>\n",
       "    </tr>\n",
       "    <tr>\n",
       "      <td>3</td>\n",
       "      <td>2004</td>\n",
       "      <td>2004 acs</td>\n",
       "      <td>23712</td>\n",
       "      <td>NaN</td>\n",
       "      <td>208</td>\n",
       "      <td>2.004000e+12</td>\n",
       "      <td>california</td>\n",
       "      <td>6</td>\n",
       "      <td>households under 1970 definition</td>\n",
       "      <td>4</td>\n",
       "      <td>220</td>\n",
       "      <td>47</td>\n",
       "      <td>indiana</td>\n",
       "      <td>indiana</td>\n",
       "      <td>n/a</td>\n",
       "      <td>n/a</td>\n",
       "      <td>n/a</td>\n",
       "    </tr>\n",
       "    <tr>\n",
       "      <td>4</td>\n",
       "      <td>2004</td>\n",
       "      <td>2004 acs</td>\n",
       "      <td>23713</td>\n",
       "      <td>NaN</td>\n",
       "      <td>244</td>\n",
       "      <td>2.004000e+12</td>\n",
       "      <td>california</td>\n",
       "      <td>6</td>\n",
       "      <td>households under 1970 definition</td>\n",
       "      <td>1</td>\n",
       "      <td>258</td>\n",
       "      <td>29</td>\n",
       "      <td>florida</td>\n",
       "      <td>florida</td>\n",
       "      <td>n/a</td>\n",
       "      <td>n/a</td>\n",
       "      <td>n/a</td>\n",
       "    </tr>\n",
       "  </tbody>\n",
       "</table>\n",
       "</div>"
      ],
      "text/plain": [
       "   year    sample  serial  cbserial  hhwt       cluster    statefip  strata  \\\n",
       "0  2004  2004 acs   23712       NaN   208  2.004000e+12  california       6   \n",
       "1  2004  2004 acs   23712       NaN   208  2.004000e+12  california       6   \n",
       "2  2004  2004 acs   23712       NaN   208  2.004000e+12  california       6   \n",
       "3  2004  2004 acs   23712       NaN   208  2.004000e+12  california       6   \n",
       "4  2004  2004 acs   23713       NaN   244  2.004000e+12  california       6   \n",
       "\n",
       "                                 gq  pernum  perwt age         bpl  \\\n",
       "0  households under 1970 definition       1    220  37    nebraska   \n",
       "1  households under 1970 definition       2    222  14  california   \n",
       "2  households under 1970 definition       3    221  12  california   \n",
       "3  households under 1970 definition       4    220  47     indiana   \n",
       "4  households under 1970 definition       1    258  29     florida   \n",
       "\n",
       "         bpld citizen yrsusa2 migplac1  \n",
       "0    nebraska     n/a     n/a      n/a  \n",
       "1  california     n/a     n/a      n/a  \n",
       "2  california     n/a     n/a      n/a  \n",
       "3     indiana     n/a     n/a      n/a  \n",
       "4     florida     n/a     n/a      n/a  "
      ]
     },
     "execution_count": 5,
     "metadata": {},
     "output_type": "execute_result"
    }
   ],
   "source": [
    "data.head()"
   ]
  },
  {
   "cell_type": "markdown",
   "metadata": {},
   "source": [
    "***\n",
    "### Subsetting only the year of interest.\n",
    "\n",
    "**Note: `year` is still a categorical variable so we must use strings to filter on it.**"
   ]
  },
  {
   "cell_type": "code",
   "execution_count": 6,
   "metadata": {},
   "outputs": [
    {
     "data": {
      "text/plain": [
       "Index(['2004', '2005', '2006', '2007', '2008', '2009', '2010', '2011', '2012',\n",
       "       '2013', '2014', '2015', '2016', '2017', '2018'],\n",
       "      dtype='object')"
      ]
     },
     "execution_count": 6,
     "metadata": {},
     "output_type": "execute_result"
    }
   ],
   "source": [
    "data['year'].cat.categories"
   ]
  },
  {
   "cell_type": "code",
   "execution_count": 7,
   "metadata": {},
   "outputs": [],
   "source": [
    "working_data = data[data['year'] == '2016'].copy()"
   ]
  },
  {
   "cell_type": "markdown",
   "metadata": {},
   "source": [
    "There are too many categories to use `data['bpld'].cat.categories` so we print them all out, in order, to choose the cut off points for our filters later on."
   ]
  },
  {
   "cell_type": "code",
   "execution_count": 8,
   "metadata": {},
   "outputs": [
    {
     "name": "stdout",
     "output_type": "stream",
     "text": [
      "1.\talabama\n",
      "2.\talaska\n",
      "3.\tarizona\n",
      "4.\tarkansas\n",
      "5.\tcalifornia\n",
      "6.\tcolorado\n",
      "7.\tconnecticut\n",
      "8.\tdelaware\n",
      "9.\tdistrict of columbia\n",
      "10.\tflorida\n",
      "11.\tgeorgia\n",
      "12.\thawaii\n",
      "13.\tidaho\n",
      "14.\tillinois\n",
      "15.\tindiana\n",
      "16.\tiowa\n",
      "17.\tkansas\n",
      "18.\tkentucky\n",
      "19.\tlouisiana\n",
      "20.\tmaine\n",
      "21.\tmaryland\n",
      "22.\tmassachusetts\n",
      "23.\tmichigan\n",
      "24.\tminnesota\n",
      "25.\tmississippi\n",
      "26.\tmissouri\n",
      "27.\tmontana\n",
      "28.\tnebraska\n",
      "29.\tnevada\n",
      "30.\tnew hampshire\n",
      "31.\tnew jersey\n",
      "32.\tnew mexico\n",
      "33.\tnew york\n",
      "34.\tnorth carolina\n",
      "35.\tnorth dakota\n",
      "36.\tohio\n",
      "37.\toklahoma\n",
      "38.\toregon\n",
      "39.\tpennsylvania\n",
      "40.\trhode island\n",
      "41.\tsouth carolina\n",
      "42.\tsouth dakota\n",
      "43.\ttennessee\n",
      "44.\ttexas\n",
      "45.\tutah\n",
      "46.\tvermont\n",
      "47.\tvirginia\n",
      "48.\twashington\n",
      "49.\twest virginia\n",
      "50.\twisconsin\n",
      "51.\twyoming\n",
      "52.\tamerican samoa\n",
      "53.\tsamoa, 1940-1950\n",
      "54.\tguam\n",
      "55.\tpuerto rico\n",
      "56.\tu.s. virgin islands\n",
      "57.\tcanada\n",
      "58.\tbermuda\n",
      "59.\tcape verde\n",
      "60.\tmexico\n",
      "61.\tbelize/british honduras\n",
      "62.\tcosta rica\n",
      "63.\tel salvador\n",
      "64.\tguatemala\n",
      "65.\thonduras\n",
      "66.\tnicaragua\n",
      "67.\tpanama\n",
      "68.\tcuba\n",
      "69.\tdominican republic\n",
      "70.\thaiti\n",
      "71.\tjamaica\n",
      "72.\tantigua-barbuda\n",
      "73.\tbahamas\n",
      "74.\tbarbados\n",
      "75.\tdominica\n",
      "76.\tgrenada\n",
      "77.\tst. kitts-nevis\n",
      "78.\tst. lucia\n",
      "79.\tst. vincent\n",
      "80.\ttrinidad and tobago\n",
      "81.\tcaribbean, ns\n",
      "82.\twest indies, ns\n",
      "83.\tamericas, ns\n",
      "84.\targentina\n",
      "85.\tbolivia\n",
      "86.\tbrazil\n",
      "87.\tchile\n",
      "88.\tcolombia\n",
      "89.\tecuador\n",
      "90.\tguyana/british guiana\n",
      "91.\tparaguay\n",
      "92.\tperu\n",
      "93.\turuguay\n",
      "94.\tvenezuela\n",
      "95.\tsouth america, ns\n",
      "96.\tdenmark\n",
      "97.\tfinland\n",
      "98.\ticeland\n",
      "99.\tnorway\n",
      "100.\tsweden\n",
      "101.\tengland\n",
      "102.\tscotland\n",
      "103.\twales\n",
      "104.\tunited kingdom, ns\n",
      "105.\tireland\n",
      "106.\tnorthern ireland\n",
      "107.\tbelgium\n",
      "108.\tfrance\n",
      "109.\tnetherlands\n",
      "110.\tswitzerland\n",
      "111.\talbania\n",
      "112.\tgreece\n",
      "113.\tmacedonia\n",
      "114.\titaly\n",
      "115.\tportugal\n",
      "116.\tazores\n",
      "117.\tspain\n",
      "118.\taustria\n",
      "119.\tbulgaria\n",
      "120.\tczechoslovakia\n",
      "121.\tslovakia\n",
      "122.\tczech republic\n",
      "123.\tgermany\n",
      "124.\thungary\n",
      "125.\tpoland\n",
      "126.\tromania\n",
      "127.\tyugoslavia\n",
      "128.\tcroatia\n",
      "129.\tmontenegro\n",
      "130.\tserbia\n",
      "131.\tbosnia\n",
      "132.\tkosovo\n",
      "133.\testonia\n",
      "134.\tlatvia\n",
      "135.\tlithuania\n",
      "136.\tother ussr/russia\n",
      "137.\tbyelorussia\n",
      "138.\tmoldavia\n",
      "139.\tukraine\n",
      "140.\tarmenia\n",
      "141.\tazerbaijan\n",
      "142.\trepublic of georgia\n",
      "143.\tkazakhstan\n",
      "144.\tkirghizia\n",
      "145.\tuzbekistan\n",
      "146.\tussr, ns\n",
      "147.\teurope, ns\n",
      "148.\tchina\n",
      "149.\thong kong\n",
      "150.\tmongolia\n",
      "151.\ttaiwan\n",
      "152.\tjapan\n",
      "153.\tkorea\n",
      "154.\tnorth korea\n",
      "155.\tsouth korea\n",
      "156.\teast asia, ns\n",
      "157.\tcambodia (kampuchea)\n",
      "158.\tindonesia\n",
      "159.\tlaos\n",
      "160.\tmalaysia\n",
      "161.\tphilippines\n",
      "162.\tsingapore\n",
      "163.\tthailand\n",
      "164.\tvietnam\n",
      "165.\tafghanistan\n",
      "166.\tindia\n",
      "167.\tbangladesh\n",
      "168.\tbhutan\n",
      "169.\tburma (myanmar)\n",
      "170.\tpakistan\n",
      "171.\tsri lanka (ceylon)\n",
      "172.\tiran\n",
      "173.\tnepal\n",
      "174.\tcyprus\n",
      "175.\tiraq\n",
      "176.\tisrael/palestine\n",
      "177.\tjordan\n",
      "178.\tkuwait\n",
      "179.\tlebanon\n",
      "180.\tsaudi arabia\n",
      "181.\tsyria\n",
      "182.\tturkey\n",
      "183.\tunited arab emirates\n",
      "184.\tyemen arab republic (north)\n",
      "185.\tasia, nec/ns\n",
      "186.\talgeria\n",
      "187.\tegypt/united arab rep\n",
      "188.\tlibya\n",
      "189.\tmorocco\n",
      "190.\tsudan\n",
      "191.\ttunisia\n",
      "192.\tnorth africa, ns\n",
      "193.\tgambia\n",
      "194.\tghana\n",
      "195.\tguinea\n",
      "196.\tivory coast\n",
      "197.\tliberia\n",
      "198.\tnigeria\n",
      "199.\tsenegal\n",
      "200.\tsierra leone\n",
      "201.\ttogo\n",
      "202.\twestern africa, ns\n",
      "203.\tethiopia\n",
      "204.\tkenya\n",
      "205.\trwanda\n",
      "206.\tsomalia\n",
      "207.\ttanzania\n",
      "208.\tuganda\n",
      "209.\tzambia\n",
      "210.\tzimbabwe\n",
      "211.\teastern africa, nec/ns\n",
      "212.\teritrea\n",
      "213.\tsouth sudan\n",
      "214.\tcameroon\n",
      "215.\tcongo\n",
      "216.\tzaire\n",
      "217.\tsouth africa (union of)\n",
      "218.\tafrica, ns/nec\n",
      "219.\taustralia\n",
      "220.\tnew zealand\n",
      "221.\tfiji\n",
      "222.\ttonga\n",
      "223.\tmarshall islands\n",
      "224.\tmicronesia\n",
      "225.\tnorthern mariana islands\n",
      "226.\toceania, ns/nec\n",
      "227.\tother n.e.c\n"
     ]
    }
   ],
   "source": [
    "for index,category in enumerate(working_data['bpld'].cat.categories, start = 1):\n",
    "    print(f\"{index}.\\t{category}\")"
   ]
  },
  {
   "cell_type": "markdown",
   "metadata": {},
   "source": [
    "### Filters"
   ]
  },
  {
   "cell_type": "code",
   "execution_count": 9,
   "metadata": {},
   "outputs": [],
   "source": [
    "mask_state = working_data['statefip'] == 'california'\n",
    "mask_5years = working_data['yrsusa2'] == \"0-5 years\"\n",
    "mask_latam = (working_data['bpld'] >= 'mexico') & (working_data['bpld'] <= 'south america, ns')\n",
    "mask_asia = (working_data['bpld'] >= 'china') & (working_data['bpld'] <= 'asia, nec/ns')"
   ]
  },
  {
   "cell_type": "markdown",
   "metadata": {},
   "source": [
    "Subsetting the dataset to only California and those _recently arrived_ (0-5 years)."
   ]
  },
  {
   "cell_type": "code",
   "execution_count": 10,
   "metadata": {},
   "outputs": [],
   "source": [
    "california = working_data[mask_state & mask_5years].copy()"
   ]
  },
  {
   "cell_type": "markdown",
   "metadata": {},
   "source": [
    "New column: `place of origin` - aggregation of `bpld`."
   ]
  },
  {
   "cell_type": "code",
   "execution_count": 11,
   "metadata": {},
   "outputs": [],
   "source": [
    "california.loc[mask_latam, 'place of origin'] = 'Latin America'\n",
    "california.loc[mask_asia, 'place of origin'] = 'Asia'\n",
    "california['place of origin'].fillna('Other', inplace = True)"
   ]
  },
  {
   "cell_type": "code",
   "execution_count": 12,
   "metadata": {},
   "outputs": [],
   "source": [
    "place_of_origin_shares = california.groupby(['place of origin']).agg({'perwt': 'sum'}).apply(lambda x: x / x.sum()).style.format(\"{:.0%}\")"
   ]
  },
  {
   "cell_type": "code",
   "execution_count": 13,
   "metadata": {},
   "outputs": [
    {
     "data": {
      "text/html": [
       "<style  type=\"text/css\" >\n",
       "</style><table id=\"T_0d7b98d8_3303_11ea_b47c_4889e795cac6\" ><thead>    <tr>        <th class=\"blank level0\" ></th>        <th class=\"col_heading level0 col0\" >perwt</th>    </tr>    <tr>        <th class=\"index_name level0\" >place of origin</th>        <th class=\"blank\" ></th>    </tr></thead><tbody>\n",
       "                <tr>\n",
       "                        <th id=\"T_0d7b98d8_3303_11ea_b47c_4889e795cac6level0_row0\" class=\"row_heading level0 row0\" >Asia</th>\n",
       "                        <td id=\"T_0d7b98d8_3303_11ea_b47c_4889e795cac6row0_col0\" class=\"data row0 col0\" >55%</td>\n",
       "            </tr>\n",
       "            <tr>\n",
       "                        <th id=\"T_0d7b98d8_3303_11ea_b47c_4889e795cac6level0_row1\" class=\"row_heading level0 row1\" >Latin America</th>\n",
       "                        <td id=\"T_0d7b98d8_3303_11ea_b47c_4889e795cac6row1_col0\" class=\"data row1 col0\" >29%</td>\n",
       "            </tr>\n",
       "            <tr>\n",
       "                        <th id=\"T_0d7b98d8_3303_11ea_b47c_4889e795cac6level0_row2\" class=\"row_heading level0 row2\" >Other</th>\n",
       "                        <td id=\"T_0d7b98d8_3303_11ea_b47c_4889e795cac6row2_col0\" class=\"data row2 col0\" >16%</td>\n",
       "            </tr>\n",
       "    </tbody></table>"
      ],
      "text/plain": [
       "<pandas.io.formats.style.Styler at 0x1471e8ca320>"
      ]
     },
     "execution_count": 13,
     "metadata": {},
     "output_type": "execute_result"
    }
   ],
   "source": [
    "place_of_origin_shares"
   ]
  },
  {
   "cell_type": "markdown",
   "metadata": {},
   "source": [
    "[**Other notebook**](00_newly_arrivals_chart.ipynb)"
   ]
  }
 ],
 "metadata": {
  "kernelspec": {
   "display_name": "Python 3",
   "language": "python",
   "name": "python3"
  },
  "language_info": {
   "codemirror_mode": {
    "name": "ipython",
    "version": 3
   },
   "file_extension": ".py",
   "mimetype": "text/x-python",
   "name": "python",
   "nbconvert_exporter": "python",
   "pygments_lexer": "ipython3",
   "version": "3.7.3"
  }
 },
 "nbformat": 4,
 "nbformat_minor": 4
}
